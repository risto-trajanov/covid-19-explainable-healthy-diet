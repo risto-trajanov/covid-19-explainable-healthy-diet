{
 "cells": [
  {
   "cell_type": "code",
   "execution_count": null,
   "metadata": {
    "colab": {
     "base_uri": "https://localhost:8080/"
    },
    "id": "clqcIgD7PtL5",
    "outputId": "65c7f15d-ca42-4a53-8137-5e46147d3992"
   },
   "outputs": [
    {
     "name": "stderr",
     "output_type": "stream",
     "text": [
      "pandas.util.testing is deprecated. Use the functions in the public API at pandas.testing instead.\n"
     ]
    }
   ],
   "source": [
    "from probatus.feature_elimination import ShapRFECV\n",
    "from sklearn.experimental import enable_iterative_imputer\n",
    "from sklearn.impute import IterativeImputer\n",
    "from sklearn.preprocessing import MinMaxScaler\n",
    "import numpy as np\n",
    "import pandas as pd\n",
    "from xgboost import XGBRegressor\n",
    "from sklearn.model_selection import GridSearchCV, LeaveOneOut, LeavePOut\n",
    "from sklearn.model_selection import cross_val_score\n",
    "import shap\n",
    "from sklearn.model_selection import train_test_split\n",
    "import matplotlib.pyplot as plt"
   ]
  },
  {
   "cell_type": "code",
   "execution_count": null,
   "metadata": {
    "colab": {
     "base_uri": "https://localhost:8080/",
     "height": 249
    },
    "id": "rIo_gHbhP1ms",
    "outputId": "99d1cf72-eb34-4b30-8e70-f675561e5d34"
   },
   "outputs": [
    {
     "data": {
      "text/html": [
       "<div>\n",
       "<style scoped>\n",
       "    .dataframe tbody tr th:only-of-type {\n",
       "        vertical-align: middle;\n",
       "    }\n",
       "\n",
       "    .dataframe tbody tr th {\n",
       "        vertical-align: top;\n",
       "    }\n",
       "\n",
       "    .dataframe thead th {\n",
       "        text-align: right;\n",
       "    }\n",
       "</style>\n",
       "<table border=\"1\" class=\"dataframe\">\n",
       "  <thead>\n",
       "    <tr style=\"text-align: right;\">\n",
       "      <th></th>\n",
       "      <th>Alcoholic Beverages</th>\n",
       "      <th>Animal Products</th>\n",
       "      <th>Animal fats</th>\n",
       "      <th>Aquatic Products, Other</th>\n",
       "      <th>Cereals - Excluding Beer</th>\n",
       "      <th>Eggs</th>\n",
       "      <th>Fish, Seafood</th>\n",
       "      <th>Fruits - Excluding Wine</th>\n",
       "      <th>Meat</th>\n",
       "      <th>Milk - Excluding Butter</th>\n",
       "      <th>Miscellaneous</th>\n",
       "      <th>Offals</th>\n",
       "      <th>Oilcrops</th>\n",
       "      <th>Pulses</th>\n",
       "      <th>Spices</th>\n",
       "      <th>Starchy Roots</th>\n",
       "      <th>Stimulants</th>\n",
       "      <th>Sugar Crops</th>\n",
       "      <th>Sugar &amp; Sweeteners</th>\n",
       "      <th>Treenuts</th>\n",
       "      <th>Vegetal Products</th>\n",
       "      <th>Vegetable Oils</th>\n",
       "      <th>Vegetables</th>\n",
       "    </tr>\n",
       "  </thead>\n",
       "  <tbody>\n",
       "    <tr>\n",
       "      <th>0</th>\n",
       "      <td>0.000030</td>\n",
       "      <td>0.209212</td>\n",
       "      <td>0.094048</td>\n",
       "      <td>0.0</td>\n",
       "      <td>0.932183</td>\n",
       "      <td>0.102107</td>\n",
       "      <td>0.000030</td>\n",
       "      <td>0.172718</td>\n",
       "      <td>0.099611</td>\n",
       "      <td>0.307722</td>\n",
       "      <td>0.020510</td>\n",
       "      <td>0.164290</td>\n",
       "      <td>0.014672</td>\n",
       "      <td>0.073098</td>\n",
       "      <td>0.086036</td>\n",
       "      <td>0.004887</td>\n",
       "      <td>0.161764</td>\n",
       "      <td>0.0</td>\n",
       "      <td>0.093136</td>\n",
       "      <td>0.087701</td>\n",
       "      <td>0.839472</td>\n",
       "      <td>0.118219</td>\n",
       "      <td>0.259702</td>\n",
       "    </tr>\n",
       "    <tr>\n",
       "      <th>1</th>\n",
       "      <td>0.140102</td>\n",
       "      <td>0.706896</td>\n",
       "      <td>0.102562</td>\n",
       "      <td>0.0</td>\n",
       "      <td>0.190717</td>\n",
       "      <td>0.462279</td>\n",
       "      <td>0.028297</td>\n",
       "      <td>0.341492</td>\n",
       "      <td>0.288519</td>\n",
       "      <td>0.917774</td>\n",
       "      <td>0.040196</td>\n",
       "      <td>0.278848</td>\n",
       "      <td>0.074529</td>\n",
       "      <td>0.085016</td>\n",
       "      <td>0.000402</td>\n",
       "      <td>0.053821</td>\n",
       "      <td>0.100273</td>\n",
       "      <td>0.0</td>\n",
       "      <td>0.148501</td>\n",
       "      <td>0.207074</td>\n",
       "      <td>0.278154</td>\n",
       "      <td>0.128436</td>\n",
       "      <td>0.611097</td>\n",
       "    </tr>\n",
       "    <tr>\n",
       "      <th>2</th>\n",
       "      <td>0.019552</td>\n",
       "      <td>0.275546</td>\n",
       "      <td>0.016821</td>\n",
       "      <td>0.0</td>\n",
       "      <td>0.539036</td>\n",
       "      <td>0.311591</td>\n",
       "      <td>0.027459</td>\n",
       "      <td>0.298529</td>\n",
       "      <td>0.104371</td>\n",
       "      <td>0.412494</td>\n",
       "      <td>0.067004</td>\n",
       "      <td>0.079743</td>\n",
       "      <td>0.024465</td>\n",
       "      <td>0.140397</td>\n",
       "      <td>0.092487</td>\n",
       "      <td>0.111608</td>\n",
       "      <td>0.139696</td>\n",
       "      <td>0.0</td>\n",
       "      <td>0.176586</td>\n",
       "      <td>0.151658</td>\n",
       "      <td>0.743623</td>\n",
       "      <td>0.397735</td>\n",
       "      <td>0.595502</td>\n",
       "    </tr>\n",
       "    <tr>\n",
       "      <th>3</th>\n",
       "      <td>0.404646</td>\n",
       "      <td>0.206405</td>\n",
       "      <td>0.034244</td>\n",
       "      <td>0.0</td>\n",
       "      <td>0.330536</td>\n",
       "      <td>0.025393</td>\n",
       "      <td>0.228756</td>\n",
       "      <td>0.266748</td>\n",
       "      <td>0.264876</td>\n",
       "      <td>0.043159</td>\n",
       "      <td>0.043857</td>\n",
       "      <td>0.165409</td>\n",
       "      <td>0.133725</td>\n",
       "      <td>0.202901</td>\n",
       "      <td>0.000453</td>\n",
       "      <td>0.582692</td>\n",
       "      <td>0.030827</td>\n",
       "      <td>0.0</td>\n",
       "      <td>0.137324</td>\n",
       "      <td>0.004308</td>\n",
       "      <td>0.753912</td>\n",
       "      <td>0.232472</td>\n",
       "      <td>0.105695</td>\n",
       "    </tr>\n",
       "    <tr>\n",
       "      <th>4</th>\n",
       "      <td>0.263935</td>\n",
       "      <td>0.725172</td>\n",
       "      <td>0.111637</td>\n",
       "      <td>0.0</td>\n",
       "      <td>0.120333</td>\n",
       "      <td>0.125973</td>\n",
       "      <td>0.437713</td>\n",
       "      <td>0.402774</td>\n",
       "      <td>0.689613</td>\n",
       "      <td>0.403340</td>\n",
       "      <td>0.227956</td>\n",
       "      <td>0.210045</td>\n",
       "      <td>0.055471</td>\n",
       "      <td>0.053701</td>\n",
       "      <td>0.233798</td>\n",
       "      <td>0.029236</td>\n",
       "      <td>0.173150</td>\n",
       "      <td>0.0</td>\n",
       "      <td>0.318216</td>\n",
       "      <td>0.043437</td>\n",
       "      <td>0.208668</td>\n",
       "      <td>0.372299</td>\n",
       "      <td>0.271631</td>\n",
       "    </tr>\n",
       "  </tbody>\n",
       "</table>\n",
       "</div>"
      ],
      "text/plain": [
       "   Alcoholic Beverages  Animal Products  ...  Vegetable Oils  Vegetables\n",
       "0             0.000030         0.209212  ...        0.118219    0.259702\n",
       "1             0.140102         0.706896  ...        0.128436    0.611097\n",
       "2             0.019552         0.275546  ...        0.397735    0.595502\n",
       "3             0.404646         0.206405  ...        0.232472    0.105695\n",
       "4             0.263935         0.725172  ...        0.372299    0.271631\n",
       "\n",
       "[5 rows x 23 columns]"
      ]
     },
     "execution_count": 4,
     "metadata": {
      "tags": []
     },
     "output_type": "execute_result"
    }
   ],
   "source": [
    "food_data = pd.read_csv('../data/processed_data/diet.csv')\n",
    "food_data = food_data[food_data.columns[2:]].drop(['Confirmed', 'Deaths', 'Recovered'],axis=1)\n",
    "food_data.head()"
   ]
  },
  {
   "cell_type": "code",
   "execution_count": null,
   "metadata": {
    "colab": {
     "base_uri": "https://localhost:8080/",
     "height": 296
    },
    "id": "S59TU50lQP0G",
    "outputId": "efef3e95-5393-4b1e-ca1d-3337535c9513"
   },
   "outputs": [
    {
     "name": "stdout",
     "output_type": "stream",
     "text": [
      "Missing values: Country      0\n",
      "Deaths       6\n",
      "Confirmed    6\n",
      "Active       8\n",
      "Recovered    6\n",
      "dtype: int64\n"
     ]
    },
    {
     "data": {
      "text/html": [
       "<div>\n",
       "<style scoped>\n",
       "    .dataframe tbody tr th:only-of-type {\n",
       "        vertical-align: middle;\n",
       "    }\n",
       "\n",
       "    .dataframe tbody tr th {\n",
       "        vertical-align: top;\n",
       "    }\n",
       "\n",
       "    .dataframe thead th {\n",
       "        text-align: right;\n",
       "    }\n",
       "</style>\n",
       "<table border=\"1\" class=\"dataframe\">\n",
       "  <thead>\n",
       "    <tr style=\"text-align: right;\">\n",
       "      <th></th>\n",
       "      <th>Country</th>\n",
       "      <th>Deaths</th>\n",
       "      <th>Confirmed</th>\n",
       "      <th>Active</th>\n",
       "      <th>Recovered</th>\n",
       "    </tr>\n",
       "  </thead>\n",
       "  <tbody>\n",
       "    <tr>\n",
       "      <th>0</th>\n",
       "      <td>Afghanistan</td>\n",
       "      <td>0.006186</td>\n",
       "      <td>0.142134</td>\n",
       "      <td>0.012574</td>\n",
       "      <td>0.123374</td>\n",
       "    </tr>\n",
       "    <tr>\n",
       "      <th>1</th>\n",
       "      <td>Albania</td>\n",
       "      <td>0.050951</td>\n",
       "      <td>2.967301</td>\n",
       "      <td>1.123714</td>\n",
       "      <td>1.792636</td>\n",
       "    </tr>\n",
       "    <tr>\n",
       "      <th>2</th>\n",
       "      <td>Algeria</td>\n",
       "      <td>0.006558</td>\n",
       "      <td>0.244897</td>\n",
       "      <td>0.070767</td>\n",
       "      <td>0.167572</td>\n",
       "    </tr>\n",
       "    <tr>\n",
       "      <th>3</th>\n",
       "      <td>Angola</td>\n",
       "      <td>0.001461</td>\n",
       "      <td>0.061687</td>\n",
       "      <td>0.003419</td>\n",
       "      <td>0.056808</td>\n",
       "    </tr>\n",
       "    <tr>\n",
       "      <th>4</th>\n",
       "      <td>Antigua and Barbuda</td>\n",
       "      <td>0.007143</td>\n",
       "      <td>0.293878</td>\n",
       "      <td>0.095918</td>\n",
       "      <td>0.190816</td>\n",
       "    </tr>\n",
       "  </tbody>\n",
       "</table>\n",
       "</div>"
      ],
      "text/plain": [
       "               Country    Deaths  Confirmed    Active  Recovered\n",
       "0          Afghanistan  0.006186   0.142134  0.012574   0.123374\n",
       "1              Albania  0.050951   2.967301  1.123714   1.792636\n",
       "2              Algeria  0.006558   0.244897  0.070767   0.167572\n",
       "3               Angola  0.001461   0.061687  0.003419   0.056808\n",
       "4  Antigua and Barbuda  0.007143   0.293878  0.095918   0.190816"
      ]
     },
     "execution_count": 8,
     "metadata": {
      "tags": []
     },
     "output_type": "execute_result"
    }
   ],
   "source": [
    "country = pd.read_csv('../data/raw_data/control/regression_targets.csv')\n",
    "targets = country[['Country', 'Deaths', 'Confirmed', 'Active', 'Recovered']]\n",
    "print(f'Missing values: {targets.isnull().sum()}')\n",
    "targets.head()"
   ]
  },
  {
   "cell_type": "code",
   "execution_count": null,
   "metadata": {
    "id": "2ByOiT5QhCqt"
   },
   "outputs": [],
   "source": [
    "targets.dropna(axis=0, inplace=True)"
   ]
  },
  {
   "cell_type": "code",
   "execution_count": null,
   "metadata": {
    "id": "rErar8AHQ6dc"
   },
   "outputs": [],
   "source": [
    "food_data = food_data.merge(targets, on='Country', how='inner')"
   ]
  },
  {
   "cell_type": "code",
   "execution_count": null,
   "metadata": {
    "id": "BfORKeT3RHHd"
   },
   "outputs": [],
   "source": [
    "label_values = ['Deaths', 'Active', 'Recovered', 'Confirmed']\n",
    "features_food = food_data.columns.drop(label_values)\n",
    "features_food = features_food.drop(['Country'])\n",
    "X_food = food_data[features_food]\n",
    "Y_food = food_data[label_values]"
   ]
  },
  {
   "cell_type": "code",
   "execution_count": null,
   "metadata": {
    "id": "JGRIk0Iti6uB"
   },
   "outputs": [],
   "source": [
    "PARAMS = {\n",
    "    'max_depth': [2, 3, 5, 7, 10],\n",
    "    'min_child_weight': [3, 4, 5, 6],\n",
    "    'learning_rate': [0.003, 0.05, 0.1, 0.25, 0.5],\n",
    "    'gamma': [0, 0.1, 0.3],\n",
    "    'n_estimators': [35, 50, 75, 100, 150, 200, 250, 300, 350]\n",
    "}"
   ]
  },
  {
   "cell_type": "code",
   "execution_count": null,
   "metadata": {
    "id": "rOQsVGBzR543"
   },
   "outputs": [],
   "source": [
    "def hyper_parameter_search(X, Y, params):\n",
    "  xgb = XGBRegressor(n_jobs=-1)\n",
    "  gscv = GridSearchCV(xgb, params, n_jobs=-1, scoring='neg_mean_absolute_error', cv=LeaveOneOut())\n",
    "  xgboost_best = gscv.fit(X = X, y=Y)\n",
    "  return xgboost_best.best_params_, xgboost_best.best_score_"
   ]
  },
  {
   "cell_type": "code",
   "execution_count": null,
   "metadata": {
    "id": "Cwv44r2-mYMi"
   },
   "outputs": [],
   "source": [
    "def rfecv_shap_algorithm(estimator, X, Y, algorithm, step=1, score='neg_median_absolute_error'):\n",
    "  shap_elimination = ShapRFECV(clf=estimator, step=step, cv=5, scoring=score, n_jobs=3)\n",
    "  shap_report = shap_elimination.fit_compute(X, Y)\n",
    "  best_features_rfe_shap = shap_report[shap_report['val_metric_mean'] == shap_report['val_metric_mean'].max()]\n",
    "  features_shap = list(best_features_rfe_shap['features_set'].values[0])\n",
    "  features_shap_cv = {}\n",
    "  features_shap_cv['algorithm'] = 'rfe - measure shap ' + algorithm\n",
    "  features_shap_cv['selected_features'] = features_shap\n",
    "  features_shap_cv['number_of_features'] = len(features_shap)\n",
    "  features_shap_cv['neg_mae_score_cv'] = shap_report['val_metric_mean'].max()\n",
    "  feat_shap = pd.DataFrame(features_shap_cv)\n",
    "  feat_shap.to_csv('../data/feature_selection/selected_features_rfe_shap_' + algorithm + '.csv', index=False)\n",
    "  return feat_shap"
   ]
  },
  {
   "cell_type": "code",
   "execution_count": null,
   "metadata": {
    "colab": {
     "base_uri": "https://localhost:8080/"
    },
    "id": "PhwlcqSjCMb8",
    "outputId": "be10b384-64c9-4606-9908-8b456004bbfe"
   },
   "outputs": [
    {
     "name": "stdout",
     "output_type": "stream",
     "text": [
      "[19:25:06] WARNING: /workspace/src/objective/regression_obj.cu:152: reg:linear is now deprecated in favor of reg:squarederror.\n"
     ]
    }
   ],
   "source": [
    "xgboost_best_food_params, xgboost_best_food_score = hyper_parameter_search(X_food, Y_food['Deaths'], PARAMS)"
   ]
  },
  {
   "cell_type": "code",
   "execution_count": null,
   "metadata": {
    "colab": {
     "base_uri": "https://localhost:8080/"
    },
    "id": "7LS30qFIYIDQ",
    "outputId": "0fa3d607-2051-4931-d633-bf7bd6903fee"
   },
   "outputs": [
    {
     "name": "stdout",
     "output_type": "stream",
     "text": [
      "best parameters: {'gamma': 0, 'learning_rate': 0.05, 'max_depth': 3, 'min_child_weight': 5, 'n_estimators': 150}\n",
      "score: -0.027112979726802804\n"
     ]
    }
   ],
   "source": [
    "print(f'best parameters: {xgboost_best_food_params}')\n",
    "print(f'score: {xgboost_best_food_score}')"
   ]
  },
  {
   "cell_type": "code",
   "execution_count": null,
   "metadata": {
    "id": "OzG3y5eXmNy0"
   },
   "outputs": [],
   "source": [
    "xgb_food = XGBRegressor(gamma = xgboost_best_food_params['gamma'], \n",
    "                        learning_rate = xgboost_best_food_params['learning_rate'],\n",
    "                        max_depth = xgboost_best_food_params['max_depth'],\n",
    "                        min_child_weight = xgboost_best_food_params['min_child_weight'],\n",
    "                        n_estimators = xgboost_best_food_params['n_estimators'],\n",
    "                        random_state=0)"
   ]
  },
  {
   "cell_type": "code",
   "execution_count": null,
   "metadata": {
    "id": "hoBg-Zg3mnG3"
   },
   "outputs": [],
   "source": [
    "rfecv_xgb_food = rfecv_shap_algorithm(xgb_food, X_food, Y_food['Deaths'], 'food')"
   ]
  },
  {
   "cell_type": "code",
   "execution_count": null,
   "metadata": {
    "colab": {
     "base_uri": "https://localhost:8080/",
     "height": 166
    },
    "id": "T2ksVo7AYQlJ",
    "outputId": "25aa426a-cb73-4469-efc8-dde4ae869e8b"
   },
   "outputs": [
    {
     "data": {
      "text/html": [
       "<div>\n",
       "<style scoped>\n",
       "    .dataframe tbody tr th:only-of-type {\n",
       "        vertical-align: middle;\n",
       "    }\n",
       "\n",
       "    .dataframe tbody tr th {\n",
       "        vertical-align: top;\n",
       "    }\n",
       "\n",
       "    .dataframe thead th {\n",
       "        text-align: right;\n",
       "    }\n",
       "</style>\n",
       "<table border=\"1\" class=\"dataframe\">\n",
       "  <thead>\n",
       "    <tr style=\"text-align: right;\">\n",
       "      <th></th>\n",
       "      <th>algorithm</th>\n",
       "      <th>selected_features</th>\n",
       "      <th>number_of_features</th>\n",
       "      <th>neg_mae_score_cv</th>\n",
       "    </tr>\n",
       "  </thead>\n",
       "  <tbody>\n",
       "    <tr>\n",
       "      <th>0</th>\n",
       "      <td>rfe - measure shap food</td>\n",
       "      <td>Fish, Seafood</td>\n",
       "      <td>4</td>\n",
       "      <td>-0.014</td>\n",
       "    </tr>\n",
       "    <tr>\n",
       "      <th>1</th>\n",
       "      <td>rfe - measure shap food</td>\n",
       "      <td>Alcoholic Beverages</td>\n",
       "      <td>4</td>\n",
       "      <td>-0.014</td>\n",
       "    </tr>\n",
       "    <tr>\n",
       "      <th>2</th>\n",
       "      <td>rfe - measure shap food</td>\n",
       "      <td>Eggs</td>\n",
       "      <td>4</td>\n",
       "      <td>-0.014</td>\n",
       "    </tr>\n",
       "    <tr>\n",
       "      <th>3</th>\n",
       "      <td>rfe - measure shap food</td>\n",
       "      <td>Milk - Excluding Butter</td>\n",
       "      <td>4</td>\n",
       "      <td>-0.014</td>\n",
       "    </tr>\n",
       "  </tbody>\n",
       "</table>\n",
       "</div>"
      ],
      "text/plain": [
       "                 algorithm  ... neg_mae_score_cv\n",
       "0  rfe - measure shap food  ...           -0.014\n",
       "1  rfe - measure shap food  ...           -0.014\n",
       "2  rfe - measure shap food  ...           -0.014\n",
       "3  rfe - measure shap food  ...           -0.014\n",
       "\n",
       "[4 rows x 4 columns]"
      ]
     },
     "execution_count": 29,
     "metadata": {
      "tags": []
     },
     "output_type": "execute_result"
    }
   ],
   "source": [
    "rfecv_xgb_food"
   ]
  },
  {
   "cell_type": "code",
   "execution_count": null,
   "metadata": {
    "id": "uXKy2sjkCxKj"
   },
   "outputs": [],
   "source": [
    "selected_features_food = rfecv_xgb_food['selected_features'].values"
   ]
  },
  {
   "cell_type": "markdown",
   "metadata": {
    "id": "A5moqzUDC6oX"
   },
   "source": [
    "<h3>Shap feature importnace</h3>"
   ]
  },
  {
   "cell_type": "code",
   "execution_count": null,
   "metadata": {
    "id": "rO_nm8kJFENz"
   },
   "outputs": [],
   "source": [
    "X_train_food, X_test_food, Y_train_food, Y_test_food = train_test_split(\n",
    "    X_food[selected_features_food],\n",
    "    Y_food,\n",
    "    test_size = 0.2\n",
    ")"
   ]
  },
  {
   "cell_type": "code",
   "execution_count": null,
   "metadata": {
    "colab": {
     "base_uri": "https://localhost:8080/"
    },
    "id": "miIXrKWEtkOB",
    "outputId": "35f85e68-84d3-4ef7-b18e-d68905653e47"
   },
   "outputs": [
    {
     "name": "stdout",
     "output_type": "stream",
     "text": [
      "[22:49:51] WARNING: /workspace/src/objective/regression_obj.cu:152: reg:linear is now deprecated in favor of reg:squarederror.\n"
     ]
    },
    {
     "data": {
      "text/plain": [
       "XGBRegressor(base_score=0.5, booster='gbtree', colsample_bylevel=1,\n",
       "             colsample_bynode=1, colsample_bytree=1, gamma=0,\n",
       "             importance_type='gain', learning_rate=0.05, max_delta_step=0,\n",
       "             max_depth=3, min_child_weight=5, missing=None, n_estimators=150,\n",
       "             n_jobs=1, nthread=None, objective='reg:linear', random_state=0,\n",
       "             reg_alpha=0, reg_lambda=1, scale_pos_weight=1, seed=None,\n",
       "             silent=None, subsample=1, verbosity=1)"
      ]
     },
     "execution_count": 91,
     "metadata": {
      "tags": []
     },
     "output_type": "execute_result"
    }
   ],
   "source": [
    "xgb_food.fit(X_train_food, Y_train_food['Deaths'])"
   ]
  },
  {
   "cell_type": "code",
   "execution_count": null,
   "metadata": {
    "colab": {
     "base_uri": "https://localhost:8080/",
     "height": 1000
    },
    "id": "r341WyX0tiQx",
    "outputId": "b860d199-8c72-49de-ea17-1e3e9f20ebb0"
   },
   "outputs": [
    {
     "data": {
      "image/png": "[encoded data removed]",
      "text/plain": [
       "<Figure size 576x252 with 1 Axes>"
      ]
     },
     "metadata": {
      "tags": []
     },
     "output_type": "display_data"
    },
    {
     "data": {
      "image/png": "[encoded data removed]",
      "text/plain": [
       "<Figure size 576x223.2 with 2 Axes>"
      ]
     },
     "metadata": {
      "needs_background": "light",
      "tags": []
     },
     "output_type": "display_data"
    },
    {
     "data": {
      "image/png": "[encoded data removed]",
      "text/plain": [
       "<Figure size 576x252 with 3 Axes>"
      ]
     },
     "metadata": {
      "tags": []
     },
     "output_type": "display_data"
    },
    {
     "data": {
      "image/png": "[encoded data removed]",
      "text/plain": [
       "<Figure size 576x324 with 2 Axes>"
      ]
     },
     "metadata": {
      "needs_background": "light",
      "tags": []
     },
     "output_type": "display_data"
    }
   ],
   "source": [
    "expl = shap.Explainer(xgb_food, X_food[selected_features_food])\n",
    "shap_values = expl(X_food[selected_features_food])\n",
    "shap.plots.bar(shap_values)\n",
    "shap.plots.beeswarm(shap_values)\n",
    "shap.plots.waterfall(shap_values[30])\n",
    "shap.plots.heatmap(shap_values)"
   ]
  }
 ],
 "metadata": {
  "colab": {
   "collapsed_sections": [],
   "name": "feature_selection_dietary_data.ipynb",
   "provenance": []
  },
  "kernelspec": {
   "display_name": "Python 3",
   "language": "python",
   "name": "python3"
  },
  "language_info": {
   "codemirror_mode": {
    "name": "ipython",
    "version": 3
   },
   "file_extension": ".py",
   "mimetype": "text/x-python",
   "name": "python",
   "nbconvert_exporter": "python",
   "pygments_lexer": "ipython3",
   "version": "3.8.5"
  }
 },
 "nbformat": 4,
 "nbformat_minor": 1
}
