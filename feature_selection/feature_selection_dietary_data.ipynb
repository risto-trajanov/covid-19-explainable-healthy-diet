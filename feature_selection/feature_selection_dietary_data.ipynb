{
 "cells": [
  {
   "cell_type": "code",
   "execution_count": 3,
   "metadata": {
    "id": "clqcIgD7PtL5"
   },
   "outputs": [],
   "source": [
    "from probatus.feature_elimination import ShapRFECV\n",
    "from sklearn.experimental import enable_iterative_imputer\n",
    "from sklearn.impute import IterativeImputer\n",
    "from sklearn.preprocessing import MinMaxScaler\n",
    "import numpy as np\n",
    "import pandas as pd\n",
    "from xgboost import XGBRegressor\n",
    "from sklearn.model_selection import GridSearchCV, LeaveOneOut, LeavePOut\n",
    "from sklearn.model_selection import cross_val_score\n",
    "import shap\n",
    "from sklearn.model_selection import train_test_split\n",
    "import matplotlib.pyplot as plt\n",
    "import seaborn as sns\n",
    "import settings"
   ]
  },
  {
   "cell_type": "code",
   "execution_count": 4,
   "metadata": {},
   "outputs": [],
   "source": [
    "dietary_data_path = f'{settings.output_folder}diet.csv'\n",
    "targets_path = f'{settings.raw_data_folder}control/regression_targets.csv'"
   ]
  },
  {
   "cell_type": "code",
   "execution_count": 6,
   "metadata": {
    "colab": {
     "base_uri": "https://localhost:8080/",
     "height": 554
    },
    "id": "rIo_gHbhP1ms",
    "outputId": "ec54b126-2d6e-4008-d541-46e322747833"
   },
   "outputs": [
    {
     "data": {
      "text/html": [
       "<div>\n",
       "<style scoped>\n",
       "    .dataframe tbody tr th:only-of-type {\n",
       "        vertical-align: middle;\n",
       "    }\n",
       "\n",
       "    .dataframe tbody tr th {\n",
       "        vertical-align: top;\n",
       "    }\n",
       "\n",
       "    .dataframe thead th {\n",
       "        text-align: right;\n",
       "    }\n",
       "</style>\n",
       "<table border=\"1\" class=\"dataframe\">\n",
       "  <thead>\n",
       "    <tr style=\"text-align: right;\">\n",
       "      <th></th>\n",
       "      <th>Alcoholic Beverages</th>\n",
       "      <th>Animal Products</th>\n",
       "      <th>Animal fats</th>\n",
       "      <th>Aquatic Products, Other</th>\n",
       "      <th>Cereals - Excluding Beer</th>\n",
       "      <th>Eggs</th>\n",
       "      <th>Fish, Seafood</th>\n",
       "      <th>Fruits - Excluding Wine</th>\n",
       "      <th>Meat</th>\n",
       "      <th>Miscellaneous</th>\n",
       "      <th>...</th>\n",
       "      <th>Sugar Crops</th>\n",
       "      <th>Sugar &amp; Sweeteners</th>\n",
       "      <th>Treenuts</th>\n",
       "      <th>Vegetal Products</th>\n",
       "      <th>Vegetable Oils</th>\n",
       "      <th>Confirmed</th>\n",
       "      <th>Deaths</th>\n",
       "      <th>Recovered</th>\n",
       "      <th>Vegetables</th>\n",
       "      <th>Country</th>\n",
       "    </tr>\n",
       "  </thead>\n",
       "  <tbody>\n",
       "    <tr>\n",
       "      <th>0</th>\n",
       "      <td>0.000030</td>\n",
       "      <td>0.326636</td>\n",
       "      <td>0.223147</td>\n",
       "      <td>0.0</td>\n",
       "      <td>0.733914</td>\n",
       "      <td>0.132792</td>\n",
       "      <td>0.000638</td>\n",
       "      <td>0.148116</td>\n",
       "      <td>0.133538</td>\n",
       "      <td>0.025586</td>\n",
       "      <td>...</td>\n",
       "      <td>0.0</td>\n",
       "      <td>0.093136</td>\n",
       "      <td>0.113588</td>\n",
       "      <td>0.663569</td>\n",
       "      <td>0.246708</td>\n",
       "      <td>0.013626</td>\n",
       "      <td>0.033360</td>\n",
       "      <td>0.013648</td>\n",
       "      <td>0.320304</td>\n",
       "      <td>Afghanistan</td>\n",
       "    </tr>\n",
       "    <tr>\n",
       "      <th>1</th>\n",
       "      <td>0.095202</td>\n",
       "      <td>0.741183</td>\n",
       "      <td>0.154200</td>\n",
       "      <td>0.0</td>\n",
       "      <td>0.146948</td>\n",
       "      <td>0.460113</td>\n",
       "      <td>0.022935</td>\n",
       "      <td>0.274058</td>\n",
       "      <td>0.283455</td>\n",
       "      <td>0.039222</td>\n",
       "      <td>...</td>\n",
       "      <td>0.0</td>\n",
       "      <td>0.145522</td>\n",
       "      <td>0.221400</td>\n",
       "      <td>0.226743</td>\n",
       "      <td>0.149209</td>\n",
       "      <td>0.285071</td>\n",
       "      <td>0.274778</td>\n",
       "      <td>0.198303</td>\n",
       "      <td>0.592018</td>\n",
       "      <td>Albania</td>\n",
       "    </tr>\n",
       "    <tr>\n",
       "      <th>2</th>\n",
       "      <td>0.011670</td>\n",
       "      <td>0.274016</td>\n",
       "      <td>0.034457</td>\n",
       "      <td>0.0</td>\n",
       "      <td>0.378697</td>\n",
       "      <td>0.313765</td>\n",
       "      <td>0.024193</td>\n",
       "      <td>0.237088</td>\n",
       "      <td>0.103129</td>\n",
       "      <td>0.076753</td>\n",
       "      <td>...</td>\n",
       "      <td>0.0</td>\n",
       "      <td>0.176586</td>\n",
       "      <td>0.160859</td>\n",
       "      <td>0.745976</td>\n",
       "      <td>0.556105</td>\n",
       "      <td>0.023500</td>\n",
       "      <td>0.035368</td>\n",
       "      <td>0.018537</td>\n",
       "      <td>0.585138</td>\n",
       "      <td>Algeria</td>\n",
       "    </tr>\n",
       "    <tr>\n",
       "      <th>3</th>\n",
       "      <td>0.251279</td>\n",
       "      <td>0.199301</td>\n",
       "      <td>0.053595</td>\n",
       "      <td>0.0</td>\n",
       "      <td>0.288345</td>\n",
       "      <td>0.022781</td>\n",
       "      <td>0.184776</td>\n",
       "      <td>0.189200</td>\n",
       "      <td>0.290182</td>\n",
       "      <td>0.051748</td>\n",
       "      <td>...</td>\n",
       "      <td>0.0</td>\n",
       "      <td>0.130798</td>\n",
       "      <td>0.004750</td>\n",
       "      <td>0.764589</td>\n",
       "      <td>0.390946</td>\n",
       "      <td>0.005897</td>\n",
       "      <td>0.007877</td>\n",
       "      <td>0.006284</td>\n",
       "      <td>0.078466</td>\n",
       "      <td>Angola</td>\n",
       "    </tr>\n",
       "    <tr>\n",
       "      <th>4</th>\n",
       "      <td>0.226478</td>\n",
       "      <td>0.656624</td>\n",
       "      <td>0.171604</td>\n",
       "      <td>0.0</td>\n",
       "      <td>0.131001</td>\n",
       "      <td>0.118321</td>\n",
       "      <td>0.346861</td>\n",
       "      <td>0.356505</td>\n",
       "      <td>0.621373</td>\n",
       "      <td>0.217600</td>\n",
       "      <td>...</td>\n",
       "      <td>0.0</td>\n",
       "      <td>0.318216</td>\n",
       "      <td>0.043980</td>\n",
       "      <td>0.311472</td>\n",
       "      <td>0.346539</td>\n",
       "      <td>0.028206</td>\n",
       "      <td>0.038521</td>\n",
       "      <td>0.021108</td>\n",
       "      <td>0.249017</td>\n",
       "      <td>Antigua and Barbuda</td>\n",
       "    </tr>\n",
       "  </tbody>\n",
       "</table>\n",
       "<p>5 rows × 27 columns</p>\n",
       "</div>"
      ],
      "text/plain": [
       "   Alcoholic Beverages  Animal Products  Animal fats  Aquatic Products, Other  \\\n",
       "0             0.000030         0.326636     0.223147                      0.0   \n",
       "1             0.095202         0.741183     0.154200                      0.0   \n",
       "2             0.011670         0.274016     0.034457                      0.0   \n",
       "3             0.251279         0.199301     0.053595                      0.0   \n",
       "4             0.226478         0.656624     0.171604                      0.0   \n",
       "\n",
       "   Cereals - Excluding Beer      Eggs  Fish, Seafood  Fruits - Excluding Wine  \\\n",
       "0                  0.733914  0.132792       0.000638                 0.148116   \n",
       "1                  0.146948  0.460113       0.022935                 0.274058   \n",
       "2                  0.378697  0.313765       0.024193                 0.237088   \n",
       "3                  0.288345  0.022781       0.184776                 0.189200   \n",
       "4                  0.131001  0.118321       0.346861                 0.356505   \n",
       "\n",
       "       Meat  Miscellaneous  ...  Sugar Crops  Sugar & Sweeteners  Treenuts  \\\n",
       "0  0.133538       0.025586  ...          0.0            0.093136  0.113588   \n",
       "1  0.283455       0.039222  ...          0.0            0.145522  0.221400   \n",
       "2  0.103129       0.076753  ...          0.0            0.176586  0.160859   \n",
       "3  0.290182       0.051748  ...          0.0            0.130798  0.004750   \n",
       "4  0.621373       0.217600  ...          0.0            0.318216  0.043980   \n",
       "\n",
       "   Vegetal Products  Vegetable Oils  Confirmed    Deaths  Recovered  \\\n",
       "0          0.663569        0.246708   0.013626  0.033360   0.013648   \n",
       "1          0.226743        0.149209   0.285071  0.274778   0.198303   \n",
       "2          0.745976        0.556105   0.023500  0.035368   0.018537   \n",
       "3          0.764589        0.390946   0.005897  0.007877   0.006284   \n",
       "4          0.311472        0.346539   0.028206  0.038521   0.021108   \n",
       "\n",
       "   Vegetables              Country  \n",
       "0    0.320304          Afghanistan  \n",
       "1    0.592018              Albania  \n",
       "2    0.585138              Algeria  \n",
       "3    0.078466               Angola  \n",
       "4    0.249017  Antigua and Barbuda  \n",
       "\n",
       "[5 rows x 27 columns]"
      ]
     },
     "execution_count": 6,
     "metadata": {},
     "output_type": "execute_result"
    }
   ],
   "source": [
    "food_data = pd.read_csv(dietary_data_path)\n",
    "food_data = food_data[food_data.columns[2:]]\n",
    "food_data.head()"
   ]
  },
  {
   "cell_type": "code",
   "execution_count": 7,
   "metadata": {
    "id": "CugbHylkJwjd"
   },
   "outputs": [],
   "source": [
    "targets = pd.read_csv(targets_path)"
   ]
  },
  {
   "cell_type": "code",
   "execution_count": null,
   "metadata": {
    "id": "nMQthWWiJwje"
   },
   "outputs": [],
   "source": [
    "food_data.drop(['Deaths', 'Recovered', 'Confirmed'], axis=1, inplace=True)"
   ]
  },
  {
   "cell_type": "code",
   "execution_count": null,
   "metadata": {
    "id": "oHp5V0_KJwje"
   },
   "outputs": [],
   "source": [
    "food_data = food_data.merge(targets, on='Country', how='inner')"
   ]
  },
  {
   "cell_type": "code",
   "execution_count": null,
   "metadata": {
    "colab": {
     "base_uri": "https://localhost:8080/",
     "height": 521
    },
    "id": "U1ZAn4w6Jwjf",
    "outputId": "95c1f239-bbab-43ea-df0d-942a443f55c0"
   },
   "outputs": [
    {
     "data": {
      "text/html": [
       "<div>\n",
       "<style scoped>\n",
       "    .dataframe tbody tr th:only-of-type {\n",
       "        vertical-align: middle;\n",
       "    }\n",
       "\n",
       "    .dataframe tbody tr th {\n",
       "        vertical-align: top;\n",
       "    }\n",
       "\n",
       "    .dataframe thead th {\n",
       "        text-align: right;\n",
       "    }\n",
       "</style>\n",
       "<table border=\"1\" class=\"dataframe\">\n",
       "  <thead>\n",
       "    <tr style=\"text-align: right;\">\n",
       "      <th></th>\n",
       "      <th>Alcoholic Beverages</th>\n",
       "      <th>Animal Products</th>\n",
       "      <th>Animal fats</th>\n",
       "      <th>Aquatic Products, Other</th>\n",
       "      <th>Cereals - Excluding Beer</th>\n",
       "      <th>Eggs</th>\n",
       "      <th>Fish, Seafood</th>\n",
       "      <th>Fruits - Excluding Wine</th>\n",
       "      <th>Meat</th>\n",
       "      <th>Miscellaneous</th>\n",
       "      <th>Milk - Excluding Butter</th>\n",
       "      <th>Offals</th>\n",
       "      <th>Oilcrops</th>\n",
       "      <th>Pulses</th>\n",
       "      <th>Spices</th>\n",
       "      <th>Starchy Roots</th>\n",
       "      <th>Stimulants</th>\n",
       "      <th>Sugar Crops</th>\n",
       "      <th>Sugar &amp; Sweeteners</th>\n",
       "      <th>Treenuts</th>\n",
       "      <th>Vegetal Products</th>\n",
       "      <th>Vegetable Oils</th>\n",
       "      <th>Vegetables</th>\n",
       "      <th>Country</th>\n",
       "      <th>Deaths</th>\n",
       "      <th>Confirmed</th>\n",
       "      <th>Recovered</th>\n",
       "    </tr>\n",
       "  </thead>\n",
       "  <tbody>\n",
       "    <tr>\n",
       "      <th>0</th>\n",
       "      <td>0.000030</td>\n",
       "      <td>0.326636</td>\n",
       "      <td>0.223147</td>\n",
       "      <td>0.000000</td>\n",
       "      <td>0.733914</td>\n",
       "      <td>0.132792</td>\n",
       "      <td>0.000638</td>\n",
       "      <td>0.148116</td>\n",
       "      <td>0.133538</td>\n",
       "      <td>0.025586</td>\n",
       "      <td>0.353124</td>\n",
       "      <td>0.250286</td>\n",
       "      <td>0.018133</td>\n",
       "      <td>0.074582</td>\n",
       "      <td>0.090683</td>\n",
       "      <td>0.008648</td>\n",
       "      <td>0.101278</td>\n",
       "      <td>0.000000</td>\n",
       "      <td>0.093136</td>\n",
       "      <td>0.113588</td>\n",
       "      <td>0.663569</td>\n",
       "      <td>0.246708</td>\n",
       "      <td>0.320304</td>\n",
       "      <td>Afghanistan</td>\n",
       "      <td>0.006186</td>\n",
       "      <td>0.142134</td>\n",
       "      <td>0.123374</td>\n",
       "    </tr>\n",
       "    <tr>\n",
       "      <th>1</th>\n",
       "      <td>0.095202</td>\n",
       "      <td>0.741183</td>\n",
       "      <td>0.154200</td>\n",
       "      <td>0.000000</td>\n",
       "      <td>0.146948</td>\n",
       "      <td>0.460113</td>\n",
       "      <td>0.022935</td>\n",
       "      <td>0.274058</td>\n",
       "      <td>0.283455</td>\n",
       "      <td>0.039222</td>\n",
       "      <td>0.917774</td>\n",
       "      <td>0.307851</td>\n",
       "      <td>0.095765</td>\n",
       "      <td>0.072650</td>\n",
       "      <td>0.000402</td>\n",
       "      <td>0.036580</td>\n",
       "      <td>0.119830</td>\n",
       "      <td>0.000000</td>\n",
       "      <td>0.145522</td>\n",
       "      <td>0.221400</td>\n",
       "      <td>0.226743</td>\n",
       "      <td>0.149209</td>\n",
       "      <td>0.592018</td>\n",
       "      <td>Albania</td>\n",
       "      <td>0.050951</td>\n",
       "      <td>2.967301</td>\n",
       "      <td>1.792636</td>\n",
       "    </tr>\n",
       "    <tr>\n",
       "      <th>2</th>\n",
       "      <td>0.011670</td>\n",
       "      <td>0.274016</td>\n",
       "      <td>0.034457</td>\n",
       "      <td>0.000000</td>\n",
       "      <td>0.378697</td>\n",
       "      <td>0.313765</td>\n",
       "      <td>0.024193</td>\n",
       "      <td>0.237088</td>\n",
       "      <td>0.103129</td>\n",
       "      <td>0.076753</td>\n",
       "      <td>0.402251</td>\n",
       "      <td>0.097426</td>\n",
       "      <td>0.030560</td>\n",
       "      <td>0.127221</td>\n",
       "      <td>0.080131</td>\n",
       "      <td>0.086139</td>\n",
       "      <td>0.109900</td>\n",
       "      <td>0.000000</td>\n",
       "      <td>0.176586</td>\n",
       "      <td>0.160859</td>\n",
       "      <td>0.745976</td>\n",
       "      <td>0.556105</td>\n",
       "      <td>0.585138</td>\n",
       "      <td>Algeria</td>\n",
       "      <td>0.006558</td>\n",
       "      <td>0.244897</td>\n",
       "      <td>0.167572</td>\n",
       "    </tr>\n",
       "    <tr>\n",
       "      <th>3</th>\n",
       "      <td>0.251279</td>\n",
       "      <td>0.199301</td>\n",
       "      <td>0.053595</td>\n",
       "      <td>0.000000</td>\n",
       "      <td>0.288345</td>\n",
       "      <td>0.022781</td>\n",
       "      <td>0.184776</td>\n",
       "      <td>0.189200</td>\n",
       "      <td>0.290182</td>\n",
       "      <td>0.051748</td>\n",
       "      <td>0.044997</td>\n",
       "      <td>0.158570</td>\n",
       "      <td>0.090937</td>\n",
       "      <td>0.168936</td>\n",
       "      <td>0.001731</td>\n",
       "      <td>0.534029</td>\n",
       "      <td>0.030582</td>\n",
       "      <td>0.000000</td>\n",
       "      <td>0.130798</td>\n",
       "      <td>0.004750</td>\n",
       "      <td>0.764589</td>\n",
       "      <td>0.390946</td>\n",
       "      <td>0.078466</td>\n",
       "      <td>Angola</td>\n",
       "      <td>0.001461</td>\n",
       "      <td>0.061687</td>\n",
       "      <td>0.056808</td>\n",
       "    </tr>\n",
       "    <tr>\n",
       "      <th>4</th>\n",
       "      <td>0.185313</td>\n",
       "      <td>0.713814</td>\n",
       "      <td>0.173578</td>\n",
       "      <td>0.000000</td>\n",
       "      <td>0.161196</td>\n",
       "      <td>0.548327</td>\n",
       "      <td>0.037607</td>\n",
       "      <td>0.152709</td>\n",
       "      <td>0.821974</td>\n",
       "      <td>0.000000</td>\n",
       "      <td>0.373834</td>\n",
       "      <td>0.298039</td>\n",
       "      <td>0.000463</td>\n",
       "      <td>0.013133</td>\n",
       "      <td>0.017223</td>\n",
       "      <td>0.063410</td>\n",
       "      <td>0.175876</td>\n",
       "      <td>0.000000</td>\n",
       "      <td>0.335253</td>\n",
       "      <td>0.028820</td>\n",
       "      <td>0.278729</td>\n",
       "      <td>0.429676</td>\n",
       "      <td>0.189416</td>\n",
       "      <td>Argentina</td>\n",
       "      <td>0.108227</td>\n",
       "      <td>4.356147</td>\n",
       "      <td>3.905192</td>\n",
       "    </tr>\n",
       "    <tr>\n",
       "      <th>...</th>\n",
       "      <td>...</td>\n",
       "      <td>...</td>\n",
       "      <td>...</td>\n",
       "      <td>...</td>\n",
       "      <td>...</td>\n",
       "      <td>...</td>\n",
       "      <td>...</td>\n",
       "      <td>...</td>\n",
       "      <td>...</td>\n",
       "      <td>...</td>\n",
       "      <td>...</td>\n",
       "      <td>...</td>\n",
       "      <td>...</td>\n",
       "      <td>...</td>\n",
       "      <td>...</td>\n",
       "      <td>...</td>\n",
       "      <td>...</td>\n",
       "      <td>...</td>\n",
       "      <td>...</td>\n",
       "      <td>...</td>\n",
       "      <td>...</td>\n",
       "      <td>...</td>\n",
       "      <td>...</td>\n",
       "      <td>...</td>\n",
       "      <td>...</td>\n",
       "      <td>...</td>\n",
       "      <td>...</td>\n",
       "    </tr>\n",
       "    <tr>\n",
       "      <th>149</th>\n",
       "      <td>0.110921</td>\n",
       "      <td>0.381194</td>\n",
       "      <td>0.085436</td>\n",
       "      <td>0.000000</td>\n",
       "      <td>0.294196</td>\n",
       "      <td>0.187844</td>\n",
       "      <td>0.090223</td>\n",
       "      <td>0.242472</td>\n",
       "      <td>0.321285</td>\n",
       "      <td>0.018274</td>\n",
       "      <td>0.336548</td>\n",
       "      <td>0.207525</td>\n",
       "      <td>0.001773</td>\n",
       "      <td>0.078660</td>\n",
       "      <td>0.000453</td>\n",
       "      <td>0.059798</td>\n",
       "      <td>0.056898</td>\n",
       "      <td>0.000000</td>\n",
       "      <td>0.375505</td>\n",
       "      <td>0.001428</td>\n",
       "      <td>0.686766</td>\n",
       "      <td>0.695760</td>\n",
       "      <td>0.178414</td>\n",
       "      <td>Venezuela (Bolivarian Republic of)</td>\n",
       "      <td>0.004287</td>\n",
       "      <td>0.452585</td>\n",
       "      <td>0.424399</td>\n",
       "    </tr>\n",
       "    <tr>\n",
       "      <th>150</th>\n",
       "      <td>0.077855</td>\n",
       "      <td>0.536682</td>\n",
       "      <td>0.165005</td>\n",
       "      <td>0.000834</td>\n",
       "      <td>0.432653</td>\n",
       "      <td>0.194973</td>\n",
       "      <td>0.221331</td>\n",
       "      <td>0.170024</td>\n",
       "      <td>0.751990</td>\n",
       "      <td>0.015410</td>\n",
       "      <td>0.034182</td>\n",
       "      <td>0.395196</td>\n",
       "      <td>0.131814</td>\n",
       "      <td>0.049178</td>\n",
       "      <td>0.298923</td>\n",
       "      <td>0.020812</td>\n",
       "      <td>0.099123</td>\n",
       "      <td>0.241974</td>\n",
       "      <td>0.085882</td>\n",
       "      <td>0.297618</td>\n",
       "      <td>0.331252</td>\n",
       "      <td>0.041308</td>\n",
       "      <td>0.601534</td>\n",
       "      <td>Vietnam</td>\n",
       "      <td>0.000036</td>\n",
       "      <td>0.002063</td>\n",
       "      <td>0.001526</td>\n",
       "    </tr>\n",
       "    <tr>\n",
       "      <th>151</th>\n",
       "      <td>0.000789</td>\n",
       "      <td>0.162025</td>\n",
       "      <td>0.069646</td>\n",
       "      <td>0.000000</td>\n",
       "      <td>0.772265</td>\n",
       "      <td>0.127352</td>\n",
       "      <td>0.046031</td>\n",
       "      <td>0.127433</td>\n",
       "      <td>0.252005</td>\n",
       "      <td>0.050883</td>\n",
       "      <td>0.069233</td>\n",
       "      <td>0.239016</td>\n",
       "      <td>0.015113</td>\n",
       "      <td>0.198082</td>\n",
       "      <td>0.043443</td>\n",
       "      <td>0.011286</td>\n",
       "      <td>0.112990</td>\n",
       "      <td>0.000000</td>\n",
       "      <td>0.405366</td>\n",
       "      <td>0.011577</td>\n",
       "      <td>0.837426</td>\n",
       "      <td>0.460589</td>\n",
       "      <td>0.127776</td>\n",
       "      <td>Yemen</td>\n",
       "      <td>0.002062</td>\n",
       "      <td>0.007131</td>\n",
       "      <td>0.004788</td>\n",
       "    </tr>\n",
       "    <tr>\n",
       "      <th>152</th>\n",
       "      <td>0.468885</td>\n",
       "      <td>0.131752</td>\n",
       "      <td>0.069386</td>\n",
       "      <td>0.000000</td>\n",
       "      <td>0.743871</td>\n",
       "      <td>0.163937</td>\n",
       "      <td>0.145513</td>\n",
       "      <td>0.012698</td>\n",
       "      <td>0.155113</td>\n",
       "      <td>0.049938</td>\n",
       "      <td>0.061233</td>\n",
       "      <td>0.227002</td>\n",
       "      <td>0.266735</td>\n",
       "      <td>0.039638</td>\n",
       "      <td>0.063852</td>\n",
       "      <td>0.184374</td>\n",
       "      <td>0.025747</td>\n",
       "      <td>0.000000</td>\n",
       "      <td>0.113278</td>\n",
       "      <td>0.001367</td>\n",
       "      <td>0.887470</td>\n",
       "      <td>0.273236</td>\n",
       "      <td>0.141407</td>\n",
       "      <td>Zambia</td>\n",
       "      <td>0.004564</td>\n",
       "      <td>0.334133</td>\n",
       "      <td>0.290524</td>\n",
       "    </tr>\n",
       "    <tr>\n",
       "      <th>153</th>\n",
       "      <td>0.180166</td>\n",
       "      <td>0.178302</td>\n",
       "      <td>0.113287</td>\n",
       "      <td>0.000000</td>\n",
       "      <td>0.654669</td>\n",
       "      <td>0.108619</td>\n",
       "      <td>0.040909</td>\n",
       "      <td>0.039485</td>\n",
       "      <td>0.191249</td>\n",
       "      <td>0.044067</td>\n",
       "      <td>0.138909</td>\n",
       "      <td>0.155347</td>\n",
       "      <td>0.055491</td>\n",
       "      <td>0.082276</td>\n",
       "      <td>0.031773</td>\n",
       "      <td>0.057155</td>\n",
       "      <td>0.055864</td>\n",
       "      <td>0.000000</td>\n",
       "      <td>0.316402</td>\n",
       "      <td>0.078593</td>\n",
       "      <td>0.860121</td>\n",
       "      <td>0.676407</td>\n",
       "      <td>0.079398</td>\n",
       "      <td>Zimbabwe</td>\n",
       "      <td>0.008854</td>\n",
       "      <td>0.232033</td>\n",
       "      <td>0.190964</td>\n",
       "    </tr>\n",
       "  </tbody>\n",
       "</table>\n",
       "<p>154 rows × 27 columns</p>\n",
       "</div>"
      ],
      "text/plain": [
       "     Alcoholic Beverages  Animal Products  ...  Confirmed  Recovered\n",
       "0               0.000030         0.326636  ...   0.142134   0.123374\n",
       "1               0.095202         0.741183  ...   2.967301   1.792636\n",
       "2               0.011670         0.274016  ...   0.244897   0.167572\n",
       "3               0.251279         0.199301  ...   0.061687   0.056808\n",
       "4               0.185313         0.713814  ...   4.356147   3.905192\n",
       "..                   ...              ...  ...        ...        ...\n",
       "149             0.110921         0.381194  ...   0.452585   0.424399\n",
       "150             0.077855         0.536682  ...   0.002063   0.001526\n",
       "151             0.000789         0.162025  ...   0.007131   0.004788\n",
       "152             0.468885         0.131752  ...   0.334133   0.290524\n",
       "153             0.180166         0.178302  ...   0.232033   0.190964\n",
       "\n",
       "[154 rows x 27 columns]"
      ]
     },
     "execution_count": 11,
     "metadata": {
      "tags": []
     },
     "output_type": "execute_result"
    }
   ],
   "source": [
    "food_data"
   ]
  },
  {
   "cell_type": "code",
   "execution_count": null,
   "metadata": {
    "id": "BfORKeT3RHHd"
   },
   "outputs": [],
   "source": [
    "label_values = ['Deaths', 'Recovered', 'Confirmed']\n",
    "features_food = food_data.columns.drop(label_values)\n",
    "features_food = features_food.drop(['Country'])\n",
    "X_food = food_data[features_food]\n",
    "Y_food = food_data[label_values]"
   ]
  },
  {
   "cell_type": "code",
   "execution_count": null,
   "metadata": {
    "id": "JGRIk0Iti6uB"
   },
   "outputs": [],
   "source": [
    "PARAMS = {\n",
    "    'max_depth': [2, 3, 5, 7],\n",
    "    'min_child_weight': [2, 3, 4, 5, 6],\n",
    "    'learning_rate': [0.05, 0.1, 0.25, 0.5],\n",
    "    'gamma': [0, 0.1],\n",
    "    'n_estimators': [75, 100, 150, 200]\n",
    "}"
   ]
  },
  {
   "cell_type": "code",
   "execution_count": null,
   "metadata": {
    "id": "rOQsVGBzR543"
   },
   "outputs": [],
   "source": [
    "def hyper_parameter_search(X, Y, params):\n",
    "  xgb = XGBRegressor(n_jobs=-1)\n",
    "  gscv = GridSearchCV(xgb, params, n_jobs=-1, scoring='neg_mean_absolute_error', cv=5)\n",
    "  xgboost_best = gscv.fit(X = X, y=Y)\n",
    "  return xgboost_best.best_params_, xgboost_best.best_score_"
   ]
  },
  {
   "cell_type": "code",
   "execution_count": null,
   "metadata": {
    "id": "Cwv44r2-mYMi"
   },
   "outputs": [],
   "source": [
    "def rfecv_shap_algorithm(estimator, X, Y, algorithm, step=1, score='neg_median_absolute_error'):\n",
    "  shap_elimination = ShapRFECV(clf=estimator, step=step, cv=7, scoring=score, n_jobs=-1)\n",
    "  shap_report = shap_elimination.fit_compute(X, Y)\n",
    "  best_features_rfe_shap = shap_report[shap_report['val_metric_mean'] == shap_report['val_metric_mean'].max()]\n",
    "  features_shap = list(best_features_rfe_shap['features_set'].values[0])\n",
    "  features_shap_cv = {}\n",
    "  features_shap_cv['algorithm'] = 'rfe - measure shap ' + algorithm\n",
    "  features_shap_cv['selected_features'] = features_shap\n",
    "  features_shap_cv['number_of_features'] = len(features_shap)\n",
    "  features_shap_cv['neg_mae_score_cv'] = shap_report['val_metric_mean'].max()\n",
    "  feat_shap = pd.DataFrame(features_shap_cv)\n",
    "  feat_shap.to_csv(f'{settings.features_folder}selected_features_rfe_shap_' + algorithm + '.csv', index=False)\n",
    "  return feat_shap"
   ]
  },
  {
   "cell_type": "code",
   "execution_count": null,
   "metadata": {
    "colab": {
     "base_uri": "https://localhost:8080/"
    },
    "id": "PhwlcqSjCMb8",
    "outputId": "dd9b7f97-d35d-4043-ea77-be3cda00b9a8"
   },
   "outputs": [
    {
     "name": "stdout",
     "output_type": "stream",
     "text": [
      "[21:36:12] WARNING: /workspace/src/objective/regression_obj.cu:152: reg:linear is now deprecated in favor of reg:squarederror.\n"
     ]
    }
   ],
   "source": [
    "xgboost_best_food_params, xgboost_best_food_score = hyper_parameter_search(X_food, Y_food['Deaths'], PARAMS)"
   ]
  },
  {
   "cell_type": "code",
   "execution_count": null,
   "metadata": {
    "colab": {
     "base_uri": "https://localhost:8080/"
    },
    "id": "7LS30qFIYIDQ",
    "outputId": "5f039c60-1cb6-4bea-b172-efea824b8a04"
   },
   "outputs": [
    {
     "name": "stdout",
     "output_type": "stream",
     "text": [
      "best parameters: {'gamma': 0, 'learning_rate': 0.05, 'max_depth': 7, 'min_child_weight': 4, 'n_estimators': 200}\n",
      "score: -0.026233139002078486\n"
     ]
    }
   ],
   "source": [
    "print(f'best parameters: {xgboost_best_food_params}')\n",
    "print(f'score: {xgboost_best_food_score}')"
   ]
  },
  {
   "cell_type": "code",
   "execution_count": null,
   "metadata": {
    "id": "OzG3y5eXmNy0"
   },
   "outputs": [],
   "source": [
    "xgb_food = XGBRegressor(gamma = xgboost_best_food_params['gamma'], \n",
    "                        learning_rate = xgboost_best_food_params['learning_rate'],\n",
    "                        max_depth = xgboost_best_food_params['max_depth'],\n",
    "                        min_child_weight = xgboost_best_food_params['min_child_weight'],\n",
    "                        n_estimators = xgboost_best_food_params['n_estimators'], \n",
    "                        random_state=14)"
   ]
  },
  {
   "cell_type": "code",
   "execution_count": null,
   "metadata": {
    "colab": {
     "base_uri": "https://localhost:8080/"
    },
    "id": "hoBg-Zg3mnG3",
    "outputId": "35434d21-7d53-4764-bbdd-eeb7bf076d16"
   },
   "outputs": [
    {
     "name": "stderr",
     "output_type": "stream",
     "text": [
      "A worker stopped while some jobs were given to the executor. This can be caused by a too short worker timeout or by a memory leak.\n"
     ]
    }
   ],
   "source": [
    "rfecv_xgb_food = rfecv_shap_algorithm(xgb_food, X_food, Y_food['Deaths'], 'food')"
   ]
  },
  {
   "cell_type": "code",
   "execution_count": null,
   "metadata": {
    "colab": {
     "base_uri": "https://localhost:8080/",
     "height": 265
    },
    "id": "T2ksVo7AYQlJ",
    "outputId": "a3819695-a461-4209-b629-a9374a264b35"
   },
   "outputs": [
    {
     "data": {
      "text/html": [
       "<div>\n",
       "<style scoped>\n",
       "    .dataframe tbody tr th:only-of-type {\n",
       "        vertical-align: middle;\n",
       "    }\n",
       "\n",
       "    .dataframe tbody tr th {\n",
       "        vertical-align: top;\n",
       "    }\n",
       "\n",
       "    .dataframe thead th {\n",
       "        text-align: right;\n",
       "    }\n",
       "</style>\n",
       "<table border=\"1\" class=\"dataframe\">\n",
       "  <thead>\n",
       "    <tr style=\"text-align: right;\">\n",
       "      <th></th>\n",
       "      <th>algorithm</th>\n",
       "      <th>selected_features</th>\n",
       "      <th>number_of_features</th>\n",
       "      <th>neg_mae_score_cv</th>\n",
       "    </tr>\n",
       "  </thead>\n",
       "  <tbody>\n",
       "    <tr>\n",
       "      <th>0</th>\n",
       "      <td>rfe - measure shap food</td>\n",
       "      <td>Animal fats</td>\n",
       "      <td>7</td>\n",
       "      <td>-0.016</td>\n",
       "    </tr>\n",
       "    <tr>\n",
       "      <th>1</th>\n",
       "      <td>rfe - measure shap food</td>\n",
       "      <td>Milk - Excluding Butter</td>\n",
       "      <td>7</td>\n",
       "      <td>-0.016</td>\n",
       "    </tr>\n",
       "    <tr>\n",
       "      <th>2</th>\n",
       "      <td>rfe - measure shap food</td>\n",
       "      <td>Eggs</td>\n",
       "      <td>7</td>\n",
       "      <td>-0.016</td>\n",
       "    </tr>\n",
       "    <tr>\n",
       "      <th>3</th>\n",
       "      <td>rfe - measure shap food</td>\n",
       "      <td>Fish, Seafood</td>\n",
       "      <td>7</td>\n",
       "      <td>-0.016</td>\n",
       "    </tr>\n",
       "    <tr>\n",
       "      <th>4</th>\n",
       "      <td>rfe - measure shap food</td>\n",
       "      <td>Fruits - Excluding Wine</td>\n",
       "      <td>7</td>\n",
       "      <td>-0.016</td>\n",
       "    </tr>\n",
       "    <tr>\n",
       "      <th>5</th>\n",
       "      <td>rfe - measure shap food</td>\n",
       "      <td>Animal Products</td>\n",
       "      <td>7</td>\n",
       "      <td>-0.016</td>\n",
       "    </tr>\n",
       "    <tr>\n",
       "      <th>6</th>\n",
       "      <td>rfe - measure shap food</td>\n",
       "      <td>Alcoholic Beverages</td>\n",
       "      <td>7</td>\n",
       "      <td>-0.016</td>\n",
       "    </tr>\n",
       "  </tbody>\n",
       "</table>\n",
       "</div>"
      ],
      "text/plain": [
       "                 algorithm  ... neg_mae_score_cv\n",
       "0  rfe - measure shap food  ...           -0.016\n",
       "1  rfe - measure shap food  ...           -0.016\n",
       "2  rfe - measure shap food  ...           -0.016\n",
       "3  rfe - measure shap food  ...           -0.016\n",
       "4  rfe - measure shap food  ...           -0.016\n",
       "5  rfe - measure shap food  ...           -0.016\n",
       "6  rfe - measure shap food  ...           -0.016\n",
       "\n",
       "[7 rows x 4 columns]"
      ]
     },
     "execution_count": 20,
     "metadata": {
      "tags": []
     },
     "output_type": "execute_result"
    }
   ],
   "source": [
    "rfecv_xgb_food"
   ]
  },
  {
   "cell_type": "code",
   "execution_count": null,
   "metadata": {
    "id": "uXKy2sjkCxKj"
   },
   "outputs": [],
   "source": [
    "selected_features_food = rfecv_xgb_food['selected_features'].values"
   ]
  },
  {
   "cell_type": "markdown",
   "metadata": {
    "id": "A5moqzUDC6oX"
   },
   "source": [
    "<h3>Shap feature importnace</h3>"
   ]
  },
  {
   "cell_type": "code",
   "execution_count": null,
   "metadata": {
    "id": "rO_nm8kJFENz"
   },
   "outputs": [],
   "source": [
    "X_train_food, X_test_food, Y_train_food, Y_test_food = train_test_split(\n",
    "    X_food[selected_features_food],\n",
    "    Y_food,\n",
    "    test_size = 0.15,\n",
    ")"
   ]
  },
  {
   "cell_type": "code",
   "execution_count": null,
   "metadata": {
    "colab": {
     "base_uri": "https://localhost:8080/"
    },
    "id": "miIXrKWEtkOB",
    "outputId": "d3165522-bbaa-4528-c027-e2fc57c4282f"
   },
   "outputs": [
    {
     "name": "stdout",
     "output_type": "stream",
     "text": [
      "[21:37:48] WARNING: /workspace/src/objective/regression_obj.cu:152: reg:linear is now deprecated in favor of reg:squarederror.\n"
     ]
    },
    {
     "data": {
      "text/plain": [
       "XGBRegressor(base_score=0.5, booster='gbtree', colsample_bylevel=1,\n",
       "             colsample_bynode=1, colsample_bytree=1, gamma=0,\n",
       "             importance_type='gain', learning_rate=0.05, max_delta_step=0,\n",
       "             max_depth=7, min_child_weight=4, missing=None, n_estimators=200,\n",
       "             n_jobs=1, nthread=None, objective='reg:linear', random_state=14,\n",
       "             reg_alpha=0, reg_lambda=1, scale_pos_weight=1, seed=None,\n",
       "             silent=None, subsample=1, verbosity=1)"
      ]
     },
     "execution_count": 24,
     "metadata": {
      "tags": []
     },
     "output_type": "execute_result"
    }
   ],
   "source": [
    "xgb_food.fit(X_train_food, Y_train_food['Deaths'])"
   ]
  },
  {
   "cell_type": "code",
   "execution_count": null,
   "metadata": {
    "colab": {
     "base_uri": "https://localhost:8080/",
     "height": 1000
    },
    "id": "r341WyX0tiQx",
    "outputId": "891cba6e-79df-43fe-ab90-e2ce0ef650c7"
   },
   "outputs": [
    {
     "data": {
      "image/png": "[encoded data removed]",
      "text/plain": [
       "<Figure size 576x360 with 1 Axes>"
      ]
     },
     "metadata": {
      "tags": []
     },
     "output_type": "display_data"
    },
    {
     "data": {
      "image/png": "[encoded data removed]",
      "text/plain": [
       "<Figure size 576x309.6 with 2 Axes>"
      ]
     },
     "metadata": {
      "needs_background": "light",
      "tags": []
     },
     "output_type": "display_data"
    },
    {
     "data": {
      "image/png": "[encoded data removed]",
      "text/plain": [
       "<Figure size 576x360 with 3 Axes>"
      ]
     },
     "metadata": {
      "tags": []
     },
     "output_type": "display_data"
    },
    {
     "data": {
      "image/png": "[encoded data removed]",
      "text/plain": [
       "<Figure size 576x432 with 2 Axes>"
      ]
     },
     "metadata": {
      "needs_background": "light",
      "tags": []
     },
     "output_type": "display_data"
    }
   ],
   "source": [
    "expl = shap.Explainer(xgb_food, X_food[selected_features_food])\n",
    "shap_values = expl(X_food[selected_features_food])\n",
    "shap.plots.bar(shap_values, max_display=20)\n",
    "shap.plots.beeswarm(shap_values, max_display=20)\n",
    "shap.plots.waterfall(shap_values[30])\n",
    "shap.plots.heatmap(shap_values, max_display=20)"
   ]
  }
 ],
 "metadata": {
  "accelerator": "GPU",
  "colab": {
   "collapsed_sections": [],
   "name": "Copy of feature_selection_dietary_data-Copy1.ipynb",
   "provenance": []
  },
  "kernelspec": {
   "display_name": "Python 3",
   "language": "python",
   "name": "python3"
  },
  "language_info": {
   "codemirror_mode": {
    "name": "ipython",
    "version": 3
   },
   "file_extension": ".py",
   "mimetype": "text/x-python",
   "name": "python",
   "nbconvert_exporter": "python",
   "pygments_lexer": "ipython3",
   "version": "3.8.5"
  }
 },
 "nbformat": 4,
 "nbformat_minor": 1
}
