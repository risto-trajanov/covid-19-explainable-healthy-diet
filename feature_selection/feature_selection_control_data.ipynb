{
 "cells": [
  {
   "cell_type": "code",
   "execution_count": 1,
   "metadata": {
    "id": "clqcIgD7PtL5"
   },
   "outputs": [],
   "source": [
    "from probatus.feature_elimination import ShapRFECV\n",
    "from sklearn.experimental import enable_iterative_imputer\n",
    "from sklearn.impute import IterativeImputer\n",
    "from sklearn.preprocessing import MinMaxScaler\n",
    "import numpy as np\n",
    "import pandas as pd\n",
    "from xgboost import XGBRegressor\n",
    "from sklearn.model_selection import GridSearchCV\n",
    "import shap\n",
    "from sklearn.model_selection import train_test_split\n",
    "import matplotlib.pyplot as plt\n",
    "import settings"
   ]
  },
  {
   "cell_type": "code",
   "execution_count": 2,
   "metadata": {},
   "outputs": [],
   "source": [
    "development_data_path = f'{settings.raw_data_folder}control/country_development_data.csv'\n",
    "targets_path = f'{settings.raw_data_folder}control/regression_targets.csv'"
   ]
  },
  {
   "cell_type": "code",
   "execution_count": 3,
   "metadata": {
    "colab": {
     "base_uri": "https://localhost:8080/",
     "height": 290
    },
    "id": "-C4yzh4NhZge",
    "outputId": "b703110b-672b-43b4-8e36-1191b80411c1"
   },
   "outputs": [
    {
     "data": {
      "text/html": [
       "<div>\n",
       "<style scoped>\n",
       "    .dataframe tbody tr th:only-of-type {\n",
       "        vertical-align: middle;\n",
       "    }\n",
       "\n",
       "    .dataframe tbody tr th {\n",
       "        vertical-align: top;\n",
       "    }\n",
       "\n",
       "    .dataframe thead th {\n",
       "        text-align: right;\n",
       "    }\n",
       "</style>\n",
       "<table border=\"1\" class=\"dataframe\">\n",
       "  <thead>\n",
       "    <tr style=\"text-align: right;\">\n",
       "      <th></th>\n",
       "      <th>Country</th>\n",
       "      <th>Obesity</th>\n",
       "      <th>Undernourished</th>\n",
       "      <th>Population</th>\n",
       "      <th>Annual Average Temperature</th>\n",
       "      <th>Max Latitude</th>\n",
       "      <th>Min Latitude</th>\n",
       "      <th>Max Longitude</th>\n",
       "      <th>Min Longitude</th>\n",
       "      <th>HDI Rank</th>\n",
       "      <th>...</th>\n",
       "      <th>gdp_2018</th>\n",
       "      <th>gdp_2019</th>\n",
       "      <th>code</th>\n",
       "      <th>Population,Total Population - Both sexes</th>\n",
       "      <th>WHO code</th>\n",
       "      <th>FAO code</th>\n",
       "      <th>Winter Average Temperature</th>\n",
       "      <th>Spring Average Temperature</th>\n",
       "      <th>Summer Average Temperature</th>\n",
       "      <th>Autumn Average Temperature</th>\n",
       "    </tr>\n",
       "  </thead>\n",
       "  <tbody>\n",
       "    <tr>\n",
       "      <th>0</th>\n",
       "      <td>Afghanistan</td>\n",
       "      <td>0.037471</td>\n",
       "      <td>0.478109</td>\n",
       "      <td>0.027721</td>\n",
       "      <td>0.689775</td>\n",
       "      <td>0.602919</td>\n",
       "      <td>0.723203</td>\n",
       "      <td>0.700916</td>\n",
       "      <td>0.694015</td>\n",
       "      <td>0.893617</td>\n",
       "      <td>...</td>\n",
       "      <td>0.719723</td>\n",
       "      <td>0.876126</td>\n",
       "      <td>0.476531</td>\n",
       "      <td>0.024429</td>\n",
       "      <td>0.476531</td>\n",
       "      <td>0.002857</td>\n",
       "      <td>0.575778</td>\n",
       "      <td>0.710354</td>\n",
       "      <td>0.716581</td>\n",
       "      <td>0.612820</td>\n",
       "    </tr>\n",
       "    <tr>\n",
       "      <th>1</th>\n",
       "      <td>Albania</td>\n",
       "      <td>0.454333</td>\n",
       "      <td>0.064799</td>\n",
       "      <td>0.001985</td>\n",
       "      <td>0.671682</td>\n",
       "      <td>0.639673</td>\n",
       "      <td>0.806625</td>\n",
       "      <td>0.547690</td>\n",
       "      <td>0.575061</td>\n",
       "      <td>0.361702</td>\n",
       "      <td>...</td>\n",
       "      <td>0.820069</td>\n",
       "      <td>0.837838</td>\n",
       "      <td>0.713605</td>\n",
       "      <td>0.001962</td>\n",
       "      <td>0.713605</td>\n",
       "      <td>0.005714</td>\n",
       "      <td>0.598310</td>\n",
       "      <td>0.620379</td>\n",
       "      <td>0.659867</td>\n",
       "      <td>0.644493</td>\n",
       "    </tr>\n",
       "    <tr>\n",
       "      <th>2</th>\n",
       "      <td>Algeria</td>\n",
       "      <td>0.555035</td>\n",
       "      <td>0.024518</td>\n",
       "      <td>0.031592</td>\n",
       "      <td>0.888663</td>\n",
       "      <td>0.590785</td>\n",
       "      <td>0.638480</td>\n",
       "      <td>0.521881</td>\n",
       "      <td>0.494401</td>\n",
       "      <td>0.478723</td>\n",
       "      <td>...</td>\n",
       "      <td>0.726644</td>\n",
       "      <td>0.806306</td>\n",
       "      <td>0.000000</td>\n",
       "      <td>0.028022</td>\n",
       "      <td>0.000000</td>\n",
       "      <td>0.008571</td>\n",
       "      <td>0.757493</td>\n",
       "      <td>0.872619</td>\n",
       "      <td>0.913515</td>\n",
       "      <td>0.816447</td>\n",
       "    </tr>\n",
       "    <tr>\n",
       "      <th>3</th>\n",
       "      <td>Angola</td>\n",
       "      <td>0.091335</td>\n",
       "      <td>0.394046</td>\n",
       "      <td>0.023153</td>\n",
       "      <td>0.856803</td>\n",
       "      <td>0.226062</td>\n",
       "      <td>0.337267</td>\n",
       "      <td>0.556283</td>\n",
       "      <td>0.553128</td>\n",
       "      <td>0.781915</td>\n",
       "      <td>...</td>\n",
       "      <td>0.636678</td>\n",
       "      <td>0.768018</td>\n",
       "      <td>0.002383</td>\n",
       "      <td>0.019921</td>\n",
       "      <td>0.002383</td>\n",
       "      <td>0.017143</td>\n",
       "      <td>0.889659</td>\n",
       "      <td>0.715999</td>\n",
       "      <td>0.634922</td>\n",
       "      <td>0.900425</td>\n",
       "    </tr>\n",
       "    <tr>\n",
       "      <th>4</th>\n",
       "      <td>Antigua and Barbuda</td>\n",
       "      <td>0.379391</td>\n",
       "      <td>0.202945</td>\n",
       "      <td>0.000031</td>\n",
       "      <td>0.952521</td>\n",
       "      <td>0.420557</td>\n",
       "      <td>0.622284</td>\n",
       "      <td>0.312344</td>\n",
       "      <td>0.340846</td>\n",
       "      <td>0.409574</td>\n",
       "      <td>...</td>\n",
       "      <td>0.920415</td>\n",
       "      <td>0.864865</td>\n",
       "      <td>0.238265</td>\n",
       "      <td>0.000030</td>\n",
       "      <td>0.238265</td>\n",
       "      <td>0.020000</td>\n",
       "      <td>0.929101</td>\n",
       "      <td>0.842088</td>\n",
       "      <td>0.799537</td>\n",
       "      <td>0.961075</td>\n",
       "    </tr>\n",
       "  </tbody>\n",
       "</table>\n",
       "<p>5 rows × 26 columns</p>\n",
       "</div>"
      ],
      "text/plain": [
       "               Country   Obesity  Undernourished  Population  \\\n",
       "0          Afghanistan  0.037471        0.478109    0.027721   \n",
       "1              Albania  0.454333        0.064799    0.001985   \n",
       "2              Algeria  0.555035        0.024518    0.031592   \n",
       "3               Angola  0.091335        0.394046    0.023153   \n",
       "4  Antigua and Barbuda  0.379391        0.202945    0.000031   \n",
       "\n",
       "   Annual Average Temperature  Max Latitude  Min Latitude  Max Longitude  \\\n",
       "0                    0.689775      0.602919      0.723203       0.700916   \n",
       "1                    0.671682      0.639673      0.806625       0.547690   \n",
       "2                    0.888663      0.590785      0.638480       0.521881   \n",
       "3                    0.856803      0.226062      0.337267       0.556283   \n",
       "4                    0.952521      0.420557      0.622284       0.312344   \n",
       "\n",
       "   Min Longitude  HDI Rank  ...  gdp_2018  gdp_2019      code  \\\n",
       "0       0.694015  0.893617  ...  0.719723  0.876126  0.476531   \n",
       "1       0.575061  0.361702  ...  0.820069  0.837838  0.713605   \n",
       "2       0.494401  0.478723  ...  0.726644  0.806306  0.000000   \n",
       "3       0.553128  0.781915  ...  0.636678  0.768018  0.002383   \n",
       "4       0.340846  0.409574  ...  0.920415  0.864865  0.238265   \n",
       "\n",
       "   Population,Total Population - Both sexes  WHO code  FAO code  \\\n",
       "0                                  0.024429  0.476531  0.002857   \n",
       "1                                  0.001962  0.713605  0.005714   \n",
       "2                                  0.028022  0.000000  0.008571   \n",
       "3                                  0.019921  0.002383  0.017143   \n",
       "4                                  0.000030  0.238265  0.020000   \n",
       "\n",
       "   Winter Average Temperature  Spring Average Temperature  \\\n",
       "0                    0.575778                    0.710354   \n",
       "1                    0.598310                    0.620379   \n",
       "2                    0.757493                    0.872619   \n",
       "3                    0.889659                    0.715999   \n",
       "4                    0.929101                    0.842088   \n",
       "\n",
       "   Summer Average Temperature  Autumn Average Temperature  \n",
       "0                    0.716581                    0.612820  \n",
       "1                    0.659867                    0.644493  \n",
       "2                    0.913515                    0.816447  \n",
       "3                    0.634922                    0.900425  \n",
       "4                    0.799537                    0.961075  \n",
       "\n",
       "[5 rows x 26 columns]"
      ]
     },
     "execution_count": 3,
     "metadata": {},
     "output_type": "execute_result"
    }
   ],
   "source": [
    "development_data = pd.read_csv(development_data_path)\n",
    "development_data.head()"
   ]
  },
  {
   "cell_type": "code",
   "execution_count": 4,
   "metadata": {
    "colab": {
     "base_uri": "https://localhost:8080/",
     "height": 287
    },
    "id": "S59TU50lQP0G",
    "outputId": "2edacc60-2495-4c41-aa16-e7b9d23854be"
   },
   "outputs": [
    {
     "name": "stdout",
     "output_type": "stream",
     "text": [
      "Missing values: Deaths       0\n",
      "Confirmed    0\n",
      "Recovered    0\n",
      "Country      0\n",
      "dtype: int64\n"
     ]
    },
    {
     "data": {
      "text/html": [
       "<div>\n",
       "<style scoped>\n",
       "    .dataframe tbody tr th:only-of-type {\n",
       "        vertical-align: middle;\n",
       "    }\n",
       "\n",
       "    .dataframe tbody tr th {\n",
       "        vertical-align: top;\n",
       "    }\n",
       "\n",
       "    .dataframe thead th {\n",
       "        text-align: right;\n",
       "    }\n",
       "</style>\n",
       "<table border=\"1\" class=\"dataframe\">\n",
       "  <thead>\n",
       "    <tr style=\"text-align: right;\">\n",
       "      <th></th>\n",
       "      <th>Deaths</th>\n",
       "      <th>Confirmed</th>\n",
       "      <th>Recovered</th>\n",
       "      <th>Country</th>\n",
       "    </tr>\n",
       "  </thead>\n",
       "  <tbody>\n",
       "    <tr>\n",
       "      <th>0</th>\n",
       "      <td>0.006186</td>\n",
       "      <td>0.142134</td>\n",
       "      <td>0.123374</td>\n",
       "      <td>Afghanistan</td>\n",
       "    </tr>\n",
       "    <tr>\n",
       "      <th>1</th>\n",
       "      <td>0.050951</td>\n",
       "      <td>2.967301</td>\n",
       "      <td>1.792636</td>\n",
       "      <td>Albania</td>\n",
       "    </tr>\n",
       "    <tr>\n",
       "      <th>2</th>\n",
       "      <td>0.006558</td>\n",
       "      <td>0.244897</td>\n",
       "      <td>0.167572</td>\n",
       "      <td>Algeria</td>\n",
       "    </tr>\n",
       "    <tr>\n",
       "      <th>3</th>\n",
       "      <td>0.001461</td>\n",
       "      <td>0.061687</td>\n",
       "      <td>0.056808</td>\n",
       "      <td>Angola</td>\n",
       "    </tr>\n",
       "    <tr>\n",
       "      <th>4</th>\n",
       "      <td>0.108227</td>\n",
       "      <td>4.356147</td>\n",
       "      <td>3.905192</td>\n",
       "      <td>Argentina</td>\n",
       "    </tr>\n",
       "  </tbody>\n",
       "</table>\n",
       "</div>"
      ],
      "text/plain": [
       "     Deaths  Confirmed  Recovered      Country\n",
       "0  0.006186   0.142134   0.123374  Afghanistan\n",
       "1  0.050951   2.967301   1.792636      Albania\n",
       "2  0.006558   0.244897   0.167572      Algeria\n",
       "3  0.001461   0.061687   0.056808       Angola\n",
       "4  0.108227   4.356147   3.905192    Argentina"
      ]
     },
     "execution_count": 4,
     "metadata": {},
     "output_type": "execute_result"
    }
   ],
   "source": [
    "targets = pd.read_csv(targets_path)\n",
    "print(f'Missing values: {targets.isnull().sum()}')\n",
    "targets.head()"
   ]
  },
  {
   "cell_type": "code",
   "execution_count": 5,
   "metadata": {
    "id": "T8j7FyU8iAS2"
   },
   "outputs": [],
   "source": [
    "development_data = development_data.merge(targets, on='Country', how='inner')"
   ]
  },
  {
   "cell_type": "code",
   "execution_count": 6,
   "metadata": {
    "id": "BfORKeT3RHHd"
   },
   "outputs": [],
   "source": [
    "label_values = ['Deaths', 'Recovered', 'Confirmed']\n",
    "features_development = development_data.columns.drop(label_values)\n",
    "features_development = features_development.drop(['Country', 'WHO code', 'FAO code'])"
   ]
  },
  {
   "cell_type": "code",
   "execution_count": 7,
   "metadata": {
    "id": "qkvnJTsZbXCu"
   },
   "outputs": [],
   "source": [
    "X_development = development_data[features_development]\n",
    "Y_development = development_data[label_values]"
   ]
  },
  {
   "cell_type": "code",
   "execution_count": 8,
   "metadata": {
    "id": "rOQsVGBzR543"
   },
   "outputs": [],
   "source": [
    "def hyper_parameter_search(X, Y, params):\n",
    "  xgb = XGBRegressor(n_jobs=-1)\n",
    "  gscv = GridSearchCV(xgb, params, n_jobs=-1, scoring='neg_mean_absolute_error', cv=5)\n",
    "  xgboost_best = gscv.fit(X = X, y=Y)\n",
    "  return xgboost_best.best_params_, xgboost_best.best_score_"
   ]
  },
  {
   "cell_type": "code",
   "execution_count": 51,
   "metadata": {
    "id": "Cwv44r2-mYMi"
   },
   "outputs": [],
   "source": [
    "def rfecv_shap_algorithm(estimator, X, Y, algorithm, step=1, score='neg_median_absolute_error'):\n",
    "  shap_elimination = ShapRFECV(clf=estimator, step=step, cv=5, scoring=score, n_jobs=-1)\n",
    "  shap_report = shap_elimination.fit_compute(X, Y)\n",
    "  best_features_rfe_shap = shap_report[shap_report['val_metric_mean'] == shap_report['val_metric_mean'].max()]\n",
    "  features_shap = list(best_features_rfe_shap['features_set'].values[0])\n",
    "  features_shap_cv = {}\n",
    "  features_shap_cv['algorithm'] = 'rfe - measure shap ' + algorithm\n",
    "  features_shap_cv['selected_features'] = features_shap\n",
    "  features_shap_cv['number_of_features'] = len(features_shap)\n",
    "  features_shap_cv['neg_mae_score_cv'] = shap_report['val_metric_mean'].max()\n",
    "  feat_shap = pd.DataFrame(features_shap_cv)\n",
    "  feat_shap.to_csv(f'{settings.features_folder}selected_features_rfe_shap_' + algorithm + '.csv', index=False)\n",
    "  return feat_shap"
   ]
  },
  {
   "cell_type": "code",
   "execution_count": 10,
   "metadata": {
    "id": "OGEFTbvdx1dT"
   },
   "outputs": [],
   "source": [
    "PARAMS = {\n",
    "    'max_depth': [2, 3, 5],\n",
    "    'min_child_weight': [3, 4, 5],\n",
    "    'learning_rate': [0.003, 0.05, 0.1, 0.25, 0.5],\n",
    "    'gamma': [0, 0.1, 0.3],\n",
    "    'n_estimators': [35, 50, 100, 150, 200, 250],\n",
    "    'colsample_bytree': [1, 0.9, 0.8, 0.7]\n",
    "}"
   ]
  },
  {
   "cell_type": "code",
   "execution_count": 11,
   "metadata": {
    "colab": {
     "base_uri": "https://localhost:8080/"
    },
    "id": "sx9G59W6zuYU",
    "outputId": "d6533f26-9b62-4210-92d6-40e743f367bd"
   },
   "outputs": [],
   "source": [
    "xgb_development_params, xgb_development_score = hyper_parameter_search(X_development, Y_development['Deaths'], PARAMS)"
   ]
  },
  {
   "cell_type": "code",
   "execution_count": 12,
   "metadata": {
    "colab": {
     "base_uri": "https://localhost:8080/"
    },
    "id": "e7NxBPjD0AjU",
    "outputId": "60324b81-cb4b-4a4c-a8cd-6b0961f9ec96"
   },
   "outputs": [
    {
     "name": "stdout",
     "output_type": "stream",
     "text": [
      "best parameters: {'colsample_bytree': 0.8, 'gamma': 0, 'learning_rate': 0.25, 'max_depth': 5, 'min_child_weight': 5, 'n_estimators': 35}\n",
      "score: -0.023220903579509827\n"
     ]
    }
   ],
   "source": [
    "print(f'best parameters: {xgb_development_params}')\n",
    "print(f'score: {xgb_development_score}')"
   ]
  },
  {
   "cell_type": "code",
   "execution_count": 14,
   "metadata": {
    "id": "VfnpDANb6UvF"
   },
   "outputs": [],
   "source": [
    "xgb_development = XGBRegressor(gamma = xgb_development_params['gamma'],\n",
    "                               learning_rate = xgb_development_params['learning_rate'], \n",
    "                               max_depth = xgb_development_params['max_depth'],\n",
    "                               min_child_weight = xgb_development_params['min_child_weight'], \n",
    "                               n_estimators = xgb_development_params['n_estimators'],\n",
    "                               colsample_bytree = xgb_development_params['colsample_bytree'],\n",
    "                               random_state=123)"
   ]
  },
  {
   "cell_type": "code",
   "execution_count": 52,
   "metadata": {
    "id": "OzJh9rtE6chD"
   },
   "outputs": [],
   "source": [
    "rfecv_xgb_development = rfecv_shap_algorithm(xgb_development,\n",
    "                                             X_development[X_development.columns.drop(['code'])], \n",
    "                                             Y_development['Deaths'], \n",
    "                                             'development')"
   ]
  },
  {
   "cell_type": "code",
   "execution_count": 53,
   "metadata": {
    "colab": {
     "base_uri": "https://localhost:8080/",
     "height": 172
    },
    "id": "8HdkSxq67OUQ",
    "outputId": "ae223da7-1830-4cfd-c277-db1ab7f8a7f3"
   },
   "outputs": [
    {
     "data": {
      "text/html": [
       "<div>\n",
       "<style scoped>\n",
       "    .dataframe tbody tr th:only-of-type {\n",
       "        vertical-align: middle;\n",
       "    }\n",
       "\n",
       "    .dataframe tbody tr th {\n",
       "        vertical-align: top;\n",
       "    }\n",
       "\n",
       "    .dataframe thead th {\n",
       "        text-align: right;\n",
       "    }\n",
       "</style>\n",
       "<table border=\"1\" class=\"dataframe\">\n",
       "  <thead>\n",
       "    <tr style=\"text-align: right;\">\n",
       "      <th></th>\n",
       "      <th>algorithm</th>\n",
       "      <th>selected_features</th>\n",
       "      <th>number_of_features</th>\n",
       "      <th>neg_mae_score_cv</th>\n",
       "    </tr>\n",
       "  </thead>\n",
       "  <tbody>\n",
       "    <tr>\n",
       "      <th>0</th>\n",
       "      <td>rfe - measure shap development</td>\n",
       "      <td>Max Latitude</td>\n",
       "      <td>3</td>\n",
       "      <td>-0.011</td>\n",
       "    </tr>\n",
       "    <tr>\n",
       "      <th>1</th>\n",
       "      <td>rfe - measure shap development</td>\n",
       "      <td>Obesity</td>\n",
       "      <td>3</td>\n",
       "      <td>-0.011</td>\n",
       "    </tr>\n",
       "    <tr>\n",
       "      <th>2</th>\n",
       "      <td>rfe - measure shap development</td>\n",
       "      <td>Annual Average Temperature</td>\n",
       "      <td>3</td>\n",
       "      <td>-0.011</td>\n",
       "    </tr>\n",
       "  </tbody>\n",
       "</table>\n",
       "</div>"
      ],
      "text/plain": [
       "                        algorithm           selected_features  \\\n",
       "0  rfe - measure shap development                Max Latitude   \n",
       "1  rfe - measure shap development                     Obesity   \n",
       "2  rfe - measure shap development  Annual Average Temperature   \n",
       "\n",
       "   number_of_features  neg_mae_score_cv  \n",
       "0                   3            -0.011  \n",
       "1                   3            -0.011  \n",
       "2                   3            -0.011  "
      ]
     },
     "execution_count": 53,
     "metadata": {},
     "output_type": "execute_result"
    }
   ],
   "source": [
    "rfecv_xgb_development"
   ]
  },
  {
   "cell_type": "code",
   "execution_count": 54,
   "metadata": {
    "id": "BYqI-M5aRgiB"
   },
   "outputs": [],
   "source": [
    "selected_features_development = rfecv_xgb_development['selected_features']"
   ]
  },
  {
   "cell_type": "code",
   "execution_count": 58,
   "metadata": {
    "id": "BnoNXyCFNDJu"
   },
   "outputs": [],
   "source": [
    "X_train_development, X_test_development, Y_train_development, Y_test_development = train_test_split(\n",
    "    X_development[selected_features_development],\n",
    "    Y_development,\n",
    "    test_size = 0.15,\n",
    "    random_state=0\n",
    ")"
   ]
  },
  {
   "cell_type": "code",
   "execution_count": 59,
   "metadata": {
    "colab": {
     "base_uri": "https://localhost:8080/"
    },
    "id": "ccwgPvB-NRy5",
    "outputId": "207b13e6-e1b9-4665-cb42-1fb21146f061"
   },
   "outputs": [
    {
     "data": {
      "text/plain": [
       "XGBRegressor(base_score=0.5, booster='gbtree', colsample_bylevel=1,\n",
       "             colsample_bynode=1, colsample_bytree=0.8, gamma=0, gpu_id=-1,\n",
       "             importance_type='gain', interaction_constraints='',\n",
       "             learning_rate=0.25, max_delta_step=0, max_depth=5,\n",
       "             min_child_weight=5, missing=nan, monotone_constraints='()',\n",
       "             n_estimators=35, n_jobs=8, num_parallel_tree=1, random_state=123,\n",
       "             reg_alpha=0, reg_lambda=1, scale_pos_weight=1, subsample=1,\n",
       "             tree_method='exact', validate_parameters=1, verbosity=None)"
      ]
     },
     "execution_count": 59,
     "metadata": {},
     "output_type": "execute_result"
    }
   ],
   "source": [
    "xgb_development.fit(X_train_development, Y_train_development['Deaths'])"
   ]
  },
  {
   "cell_type": "code",
   "execution_count": 60,
   "metadata": {
    "colab": {
     "base_uri": "https://localhost:8080/",
     "height": 1000
    },
    "id": "tG0eAY3WNcQk",
    "outputId": "e25123d3-b900-4450-c984-6e0df3f111a3"
   },
   "outputs": [
    {
     "data": {
      "image/png": "[encoded data removed]",
      "text/plain": [
       "<Figure size 576x216 with 1 Axes>"
      ]
     },
     "metadata": {},
     "output_type": "display_data"
    },
    {
     "data": {
      "image/png": "[encoded data removed]",
      "text/plain": [
       "<Figure size 576x194.4 with 2 Axes>"
      ]
     },
     "metadata": {
      "needs_background": "light"
     },
     "output_type": "display_data"
    },
    {
     "data": {
      "image/png": "[encoded data removed]",
      "text/plain": [
       "<Figure size 576x216 with 3 Axes>"
      ]
     },
     "metadata": {},
     "output_type": "display_data"
    },
    {
     "data": {
      "image/png": "[encoded data removed]",
      "text/plain": [
       "<Figure size 576x288 with 2 Axes>"
      ]
     },
     "metadata": {
      "needs_background": "light"
     },
     "output_type": "display_data"
    }
   ],
   "source": [
    "expl = shap.Explainer(xgb_development, X_development[selected_features_development])\n",
    "shap_values = expl(X_development[selected_features_development])\n",
    "shap.plots.bar(shap_values)\n",
    "shap.plots.beeswarm(shap_values)\n",
    "shap.plots.waterfall(shap_values[30])\n",
    "shap.plots.heatmap(shap_values)"
   ]
  }
 ],
 "metadata": {
  "accelerator": "GPU",
  "colab": {
   "collapsed_sections": [],
   "name": "feature_selection_control_data-Copy1.ipynb",
   "provenance": []
  },
  "kernelspec": {
   "display_name": "Python 3",
   "language": "python",
   "name": "python3"
  },
  "language_info": {
   "codemirror_mode": {
    "name": "ipython",
    "version": 3
   },
   "file_extension": ".py",
   "mimetype": "text/x-python",
   "name": "python",
   "nbconvert_exporter": "python",
   "pygments_lexer": "ipython3",
   "version": "3.8.5"
  }
 },
 "nbformat": 4,
 "nbformat_minor": 1
}
