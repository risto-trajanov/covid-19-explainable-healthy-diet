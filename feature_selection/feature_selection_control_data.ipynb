{
 "cells": [
  {
   "cell_type": "code",
   "execution_count": null,
   "metadata": {
    "id": "clqcIgD7PtL5"
   },
   "outputs": [],
   "source": [
    "from probatus.feature_elimination import ShapRFECV\n",
    "from sklearn.experimental import enable_iterative_imputer\n",
    "from sklearn.impute import IterativeImputer\n",
    "from sklearn.preprocessing import MinMaxScaler\n",
    "import numpy as np\n",
    "import pandas as pd\n",
    "from xgboost import XGBRegressor\n",
    "from sklearn.model_selection import GridSearchCV\n",
    "import shap\n",
    "from sklearn.model_selection import train_test_split\n",
    "import matplotlib.pyplot as plt"
   ]
  },
  {
   "cell_type": "code",
   "execution_count": null,
   "metadata": {
    "colab": {
     "base_uri": "https://localhost:8080/",
     "height": 282
    },
    "id": "-C4yzh4NhZge",
    "outputId": "3a8b16d5-3978-45f1-cf58-bb6fa3678506"
   },
   "outputs": [
    {
     "data": {
      "text/html": [
       "<div>\n",
       "<style scoped>\n",
       "    .dataframe tbody tr th:only-of-type {\n",
       "        vertical-align: middle;\n",
       "    }\n",
       "\n",
       "    .dataframe tbody tr th {\n",
       "        vertical-align: top;\n",
       "    }\n",
       "\n",
       "    .dataframe thead th {\n",
       "        text-align: right;\n",
       "    }\n",
       "</style>\n",
       "<table border=\"1\" class=\"dataframe\">\n",
       "  <thead>\n",
       "    <tr style=\"text-align: right;\">\n",
       "      <th></th>\n",
       "      <th>Country</th>\n",
       "      <th>Obesity</th>\n",
       "      <th>Undernourished</th>\n",
       "      <th>Population</th>\n",
       "      <th>Annual Average Temperature</th>\n",
       "      <th>Max Latitude</th>\n",
       "      <th>Min Latitude</th>\n",
       "      <th>Max Longitude</th>\n",
       "      <th>Min Longitude</th>\n",
       "      <th>HDI Rank</th>\n",
       "      <th>hdi_2016</th>\n",
       "      <th>hdi_2017</th>\n",
       "      <th>hdi_2018</th>\n",
       "      <th>hdi_2019</th>\n",
       "      <th>gdp_2016</th>\n",
       "      <th>gdp_2017</th>\n",
       "      <th>gdp_2018</th>\n",
       "      <th>gdp_2019</th>\n",
       "      <th>code</th>\n",
       "      <th>Population,Total Population - Both sexes</th>\n",
       "      <th>WHO code</th>\n",
       "      <th>FAO code</th>\n",
       "      <th>Winter Average Temperature</th>\n",
       "      <th>Spring Average Temperature</th>\n",
       "      <th>Summer Average Temperature</th>\n",
       "      <th>Autumn Average Temperature</th>\n",
       "    </tr>\n",
       "  </thead>\n",
       "  <tbody>\n",
       "    <tr>\n",
       "      <th>0</th>\n",
       "      <td>Afghanistan</td>\n",
       "      <td>0.037471</td>\n",
       "      <td>0.478109</td>\n",
       "      <td>0.027721</td>\n",
       "      <td>0.689775</td>\n",
       "      <td>0.602919</td>\n",
       "      <td>0.723203</td>\n",
       "      <td>0.700916</td>\n",
       "      <td>0.694015</td>\n",
       "      <td>0.893617</td>\n",
       "      <td>0.216783</td>\n",
       "      <td>0.211268</td>\n",
       "      <td>0.208850</td>\n",
       "      <td>0.207815</td>\n",
       "      <td>0.596273</td>\n",
       "      <td>0.703846</td>\n",
       "      <td>0.719723</td>\n",
       "      <td>0.876126</td>\n",
       "      <td>0.476531</td>\n",
       "      <td>0.024429</td>\n",
       "      <td>0.476531</td>\n",
       "      <td>0.002857</td>\n",
       "      <td>0.575778</td>\n",
       "      <td>0.710354</td>\n",
       "      <td>0.716581</td>\n",
       "      <td>0.612820</td>\n",
       "    </tr>\n",
       "    <tr>\n",
       "      <th>1</th>\n",
       "      <td>Albania</td>\n",
       "      <td>0.454333</td>\n",
       "      <td>0.064799</td>\n",
       "      <td>0.001985</td>\n",
       "      <td>0.671682</td>\n",
       "      <td>0.639673</td>\n",
       "      <td>0.806625</td>\n",
       "      <td>0.547690</td>\n",
       "      <td>0.575061</td>\n",
       "      <td>0.361702</td>\n",
       "      <td>0.716783</td>\n",
       "      <td>0.711268</td>\n",
       "      <td>0.709735</td>\n",
       "      <td>0.712256</td>\n",
       "      <td>0.630435</td>\n",
       "      <td>0.750000</td>\n",
       "      <td>0.820069</td>\n",
       "      <td>0.837838</td>\n",
       "      <td>0.713605</td>\n",
       "      <td>0.001962</td>\n",
       "      <td>0.713605</td>\n",
       "      <td>0.005714</td>\n",
       "      <td>0.598310</td>\n",
       "      <td>0.620379</td>\n",
       "      <td>0.659867</td>\n",
       "      <td>0.644493</td>\n",
       "    </tr>\n",
       "    <tr>\n",
       "      <th>2</th>\n",
       "      <td>Algeria</td>\n",
       "      <td>0.555035</td>\n",
       "      <td>0.024518</td>\n",
       "      <td>0.031592</td>\n",
       "      <td>0.888663</td>\n",
       "      <td>0.590785</td>\n",
       "      <td>0.638480</td>\n",
       "      <td>0.521881</td>\n",
       "      <td>0.494401</td>\n",
       "      <td>0.478723</td>\n",
       "      <td>0.638112</td>\n",
       "      <td>0.632042</td>\n",
       "      <td>0.628319</td>\n",
       "      <td>0.628774</td>\n",
       "      <td>0.627329</td>\n",
       "      <td>0.653846</td>\n",
       "      <td>0.726644</td>\n",
       "      <td>0.806306</td>\n",
       "      <td>0.000000</td>\n",
       "      <td>0.028022</td>\n",
       "      <td>0.000000</td>\n",
       "      <td>0.008571</td>\n",
       "      <td>0.757493</td>\n",
       "      <td>0.872619</td>\n",
       "      <td>0.913515</td>\n",
       "      <td>0.816447</td>\n",
       "    </tr>\n",
       "    <tr>\n",
       "      <th>3</th>\n",
       "      <td>Angola</td>\n",
       "      <td>0.091335</td>\n",
       "      <td>0.394046</td>\n",
       "      <td>0.023153</td>\n",
       "      <td>0.856803</td>\n",
       "      <td>0.226062</td>\n",
       "      <td>0.337267</td>\n",
       "      <td>0.556283</td>\n",
       "      <td>0.553128</td>\n",
       "      <td>0.781915</td>\n",
       "      <td>0.349650</td>\n",
       "      <td>0.345070</td>\n",
       "      <td>0.338053</td>\n",
       "      <td>0.332149</td>\n",
       "      <td>0.447205</td>\n",
       "      <td>0.596154</td>\n",
       "      <td>0.636678</td>\n",
       "      <td>0.768018</td>\n",
       "      <td>0.002383</td>\n",
       "      <td>0.019921</td>\n",
       "      <td>0.002383</td>\n",
       "      <td>0.017143</td>\n",
       "      <td>0.889659</td>\n",
       "      <td>0.715999</td>\n",
       "      <td>0.634922</td>\n",
       "      <td>0.900425</td>\n",
       "    </tr>\n",
       "    <tr>\n",
       "      <th>4</th>\n",
       "      <td>Antigua and Barbuda</td>\n",
       "      <td>0.379391</td>\n",
       "      <td>0.202945</td>\n",
       "      <td>0.000031</td>\n",
       "      <td>0.952521</td>\n",
       "      <td>0.420557</td>\n",
       "      <td>0.622284</td>\n",
       "      <td>0.312344</td>\n",
       "      <td>0.340846</td>\n",
       "      <td>0.409574</td>\n",
       "      <td>0.676573</td>\n",
       "      <td>0.672535</td>\n",
       "      <td>0.674336</td>\n",
       "      <td>0.682060</td>\n",
       "      <td>0.698758</td>\n",
       "      <td>0.723077</td>\n",
       "      <td>0.920415</td>\n",
       "      <td>0.864865</td>\n",
       "      <td>0.238265</td>\n",
       "      <td>0.000030</td>\n",
       "      <td>0.238265</td>\n",
       "      <td>0.020000</td>\n",
       "      <td>0.929101</td>\n",
       "      <td>0.842088</td>\n",
       "      <td>0.799537</td>\n",
       "      <td>0.961075</td>\n",
       "    </tr>\n",
       "  </tbody>\n",
       "</table>\n",
       "</div>"
      ],
      "text/plain": [
       "               Country  ...  Autumn Average Temperature\n",
       "0          Afghanistan  ...                    0.612820\n",
       "1              Albania  ...                    0.644493\n",
       "2              Algeria  ...                    0.816447\n",
       "3               Angola  ...                    0.900425\n",
       "4  Antigua and Barbuda  ...                    0.961075\n",
       "\n",
       "[5 rows x 26 columns]"
      ]
     },
     "execution_count": 6,
     "metadata": {
      "tags": []
     },
     "output_type": "execute_result"
    }
   ],
   "source": [
    "development_data = pd.read_csv('../data/raw_data/country_development_data.csv')\n",
    "development_data.head()"
   ]
  },
  {
   "cell_type": "code",
   "execution_count": null,
   "metadata": {
    "colab": {
     "base_uri": "https://localhost:8080/",
     "height": 296
    },
    "id": "S59TU50lQP0G",
    "outputId": "48d4ccb6-6cdb-42b0-a66d-4887a640c2a5"
   },
   "outputs": [
    {
     "name": "stdout",
     "output_type": "stream",
     "text": [
      "Missing values: Country      0\n",
      "Deaths       6\n",
      "Confirmed    6\n",
      "Active       8\n",
      "Recovered    6\n",
      "dtype: int64\n"
     ]
    },
    {
     "data": {
      "text/html": [
       "<div>\n",
       "<style scoped>\n",
       "    .dataframe tbody tr th:only-of-type {\n",
       "        vertical-align: middle;\n",
       "    }\n",
       "\n",
       "    .dataframe tbody tr th {\n",
       "        vertical-align: top;\n",
       "    }\n",
       "\n",
       "    .dataframe thead th {\n",
       "        text-align: right;\n",
       "    }\n",
       "</style>\n",
       "<table border=\"1\" class=\"dataframe\">\n",
       "  <thead>\n",
       "    <tr style=\"text-align: right;\">\n",
       "      <th></th>\n",
       "      <th>Country</th>\n",
       "      <th>Deaths</th>\n",
       "      <th>Confirmed</th>\n",
       "      <th>Active</th>\n",
       "      <th>Recovered</th>\n",
       "    </tr>\n",
       "  </thead>\n",
       "  <tbody>\n",
       "    <tr>\n",
       "      <th>0</th>\n",
       "      <td>Afghanistan</td>\n",
       "      <td>0.006186</td>\n",
       "      <td>0.142134</td>\n",
       "      <td>0.012574</td>\n",
       "      <td>0.123374</td>\n",
       "    </tr>\n",
       "    <tr>\n",
       "      <th>1</th>\n",
       "      <td>Albania</td>\n",
       "      <td>0.050951</td>\n",
       "      <td>2.967301</td>\n",
       "      <td>1.123714</td>\n",
       "      <td>1.792636</td>\n",
       "    </tr>\n",
       "    <tr>\n",
       "      <th>2</th>\n",
       "      <td>Algeria</td>\n",
       "      <td>0.006558</td>\n",
       "      <td>0.244897</td>\n",
       "      <td>0.070767</td>\n",
       "      <td>0.167572</td>\n",
       "    </tr>\n",
       "    <tr>\n",
       "      <th>3</th>\n",
       "      <td>Angola</td>\n",
       "      <td>0.001461</td>\n",
       "      <td>0.061687</td>\n",
       "      <td>0.003419</td>\n",
       "      <td>0.056808</td>\n",
       "    </tr>\n",
       "    <tr>\n",
       "      <th>4</th>\n",
       "      <td>Antigua and Barbuda</td>\n",
       "      <td>0.007143</td>\n",
       "      <td>0.293878</td>\n",
       "      <td>0.095918</td>\n",
       "      <td>0.190816</td>\n",
       "    </tr>\n",
       "  </tbody>\n",
       "</table>\n",
       "</div>"
      ],
      "text/plain": [
       "               Country    Deaths  Confirmed    Active  Recovered\n",
       "0          Afghanistan  0.006186   0.142134  0.012574   0.123374\n",
       "1              Albania  0.050951   2.967301  1.123714   1.792636\n",
       "2              Algeria  0.006558   0.244897  0.070767   0.167572\n",
       "3               Angola  0.001461   0.061687  0.003419   0.056808\n",
       "4  Antigua and Barbuda  0.007143   0.293878  0.095918   0.190816"
      ]
     },
     "execution_count": 7,
     "metadata": {
      "tags": []
     },
     "output_type": "execute_result"
    }
   ],
   "source": [
    "country = pd.read_csv('../data/raw_data/regression_targets.csv')\n",
    "targets = country[['Country', 'Deaths', 'Confirmed', 'Active', 'Recovered']]\n",
    "print(f'Missing values: {targets.isnull().sum()}')\n",
    "targets.head()"
   ]
  },
  {
   "cell_type": "code",
   "execution_count": null,
   "metadata": {
    "colab": {
     "base_uri": "https://localhost:8080/"
    },
    "id": "2ByOiT5QhCqt",
    "outputId": "bfdedf91-51d4-444f-8f45-65bb3e44a06d"
   },
   "outputs": [
    {
     "name": "stderr",
     "output_type": "stream",
     "text": [
      "\n",
      "A value is trying to be set on a copy of a slice from a DataFrame\n",
      "\n",
      "See the caveats in the documentation: https://pandas.pydata.org/pandas-docs/stable/user_guide/indexing.html#returning-a-view-versus-a-copy\n"
     ]
    }
   ],
   "source": [
    "targets.dropna(axis=0, inplace=True)"
   ]
  },
  {
   "cell_type": "code",
   "execution_count": null,
   "metadata": {
    "id": "T8j7FyU8iAS2"
   },
   "outputs": [],
   "source": [
    "development_data = development_data.merge(targets, on='Country', how='inner')"
   ]
  },
  {
   "cell_type": "code",
   "execution_count": null,
   "metadata": {
    "id": "BfORKeT3RHHd"
   },
   "outputs": [],
   "source": [
    "label_values = ['Deaths', 'Active', 'Recovered', 'Confirmed']\n",
    "features_development = development_data.columns.drop(label_values)\n",
    "features_development = features_development.drop(['Country', 'WHO code', 'FAO code'])"
   ]
  },
  {
   "cell_type": "code",
   "execution_count": null,
   "metadata": {
    "id": "qkvnJTsZbXCu"
   },
   "outputs": [],
   "source": [
    "X_development = development_data[features_development]\n",
    "Y_development = development_data[label_values]"
   ]
  },
  {
   "cell_type": "code",
   "execution_count": null,
   "metadata": {
    "id": "rOQsVGBzR543"
   },
   "outputs": [],
   "source": [
    "def hyper_parameter_search(X, Y, params):\n",
    "  xgb = XGBRegressor(n_jobs=-1)\n",
    "  gscv = GridSearchCV(xgb, params, n_jobs=-1, scoring='neg_mean_absolute_error', cv=5)\n",
    "  xgboost_best = gscv.fit(X = X, y=Y)\n",
    "  return xgboost_best.best_params_, xgboost_best.best_score_"
   ]
  },
  {
   "cell_type": "code",
   "execution_count": null,
   "metadata": {
    "id": "Cwv44r2-mYMi"
   },
   "outputs": [],
   "source": [
    "def rfecv_shap_algorithm(estimator, X, Y, algorithm, step=1, score='neg_median_absolute_error'):\n",
    "  shap_elimination = ShapRFECV(clf=estimator, step=step, cv=5, scoring=score, n_jobs=3)\n",
    "  shap_report = shap_elimination.fit_compute(X, Y)\n",
    "  best_features_rfe_shap = shap_report[shap_report['val_metric_mean'] == shap_report['val_metric_mean'].max()]\n",
    "  features_shap = list(best_features_rfe_shap['features_set'].values[0])\n",
    "  features_shap_cv = {}\n",
    "  features_shap_cv['algorithm'] = 'rfe - measure shap ' + algorithm\n",
    "  features_shap_cv['selected_features'] = features_shap\n",
    "  features_shap_cv['number_of_features'] = len(features_shap)\n",
    "  features_shap_cv['neg_mae_score_cv'] = shap_report['val_metric_mean'].max()\n",
    "  feat_shap = pd.DataFrame(features_shap_cv)\n",
    "  feat_shap.to_csv('../data/feature_selection/selected_features_rfe_shap_' + algorithm + '.csv', index=False)\n",
    "  return feat_shap"
   ]
  },
  {
   "cell_type": "code",
   "execution_count": null,
   "metadata": {
    "id": "OGEFTbvdx1dT"
   },
   "outputs": [],
   "source": [
    "PARAMS = {\n",
    "    'max_depth': [2, 3, 5],\n",
    "    'min_child_weight': [3, 4, 5],\n",
    "    'learning_rate': [0.003, 0.05, 0.1, 0.25, 0.5],\n",
    "    'gamma': [0, 0.1, 0.3],\n",
    "    'n_estimators': [35, 50, 100, 150, 200, 250]\n",
    "}"
   ]
  },
  {
   "cell_type": "code",
   "execution_count": null,
   "metadata": {
    "colab": {
     "base_uri": "https://localhost:8080/"
    },
    "id": "sx9G59W6zuYU",
    "outputId": "adf6e204-14f0-4b1a-aa84-25c48b12c31c"
   },
   "outputs": [
    {
     "name": "stdout",
     "output_type": "stream",
     "text": [
      "[16:04:22] WARNING: /workspace/src/objective/regression_obj.cu:152: reg:linear is now deprecated in favor of reg:squarederror.\n"
     ]
    }
   ],
   "source": [
    "xgb_development_params, xgb_development_score = hyper_parameter_search(X_development, Y_development['Deaths'], PARAMS)"
   ]
  },
  {
   "cell_type": "code",
   "execution_count": null,
   "metadata": {
    "colab": {
     "base_uri": "https://localhost:8080/"
    },
    "id": "e7NxBPjD0AjU",
    "outputId": "b645c392-4565-493b-e07d-76fb8076fb8f"
   },
   "outputs": [
    {
     "name": "stdout",
     "output_type": "stream",
     "text": [
      "best parameters: {'gamma': 0, 'learning_rate': 0.1, 'max_depth': 5, 'min_child_weight': 5, 'n_estimators': 150}\n",
      "score: -0.0237749700607111\n"
     ]
    }
   ],
   "source": [
    "print(f'best parameters: {xgb_development_params}')\n",
    "print(f'score: {xgb_development_score}')"
   ]
  },
  {
   "cell_type": "code",
   "execution_count": null,
   "metadata": {
    "id": "VfnpDANb6UvF"
   },
   "outputs": [],
   "source": [
    "xgb_development = XGBRegressor(gamma = xgb_comorbidity_params['gamma'],\n",
    "                               learning_rate = xgb_comorbidity_params['learning_rate'], \n",
    "                               max_depth = xgb_comorbidity_params['max_depth'],\n",
    "                               min_child_weight = xgb_comorbidity_params['min_child_weight'], \n",
    "                               n_estimators = xgb_comorbidity_params['n_estimators'],\n",
    "                               random_state=0)"
   ]
  },
  {
   "cell_type": "code",
   "execution_count": null,
   "metadata": {
    "id": "OzJh9rtE6chD"
   },
   "outputs": [],
   "source": [
    "rfecv_xgb_development = rfecv_shap_algorithm(xgb_development,\n",
    "                                             X_development[X_development.columns.drop(['code'])], \n",
    "                                             Y_development['Deaths'], \n",
    "                                             'development')"
   ]
  },
  {
   "cell_type": "code",
   "execution_count": null,
   "metadata": {
    "colab": {
     "base_uri": "https://localhost:8080/",
     "height": 195
    },
    "id": "8HdkSxq67OUQ",
    "outputId": "98d09c09-318b-489e-8609-4c4a46de287c"
   },
   "outputs": [
    {
     "data": {
      "text/html": [
       "<div>\n",
       "<style scoped>\n",
       "    .dataframe tbody tr th:only-of-type {\n",
       "        vertical-align: middle;\n",
       "    }\n",
       "\n",
       "    .dataframe tbody tr th {\n",
       "        vertical-align: top;\n",
       "    }\n",
       "\n",
       "    .dataframe thead th {\n",
       "        text-align: right;\n",
       "    }\n",
       "</style>\n",
       "<table border=\"1\" class=\"dataframe\">\n",
       "  <thead>\n",
       "    <tr style=\"text-align: right;\">\n",
       "      <th></th>\n",
       "      <th>algorithm</th>\n",
       "      <th>selected_features</th>\n",
       "      <th>number_of_features</th>\n",
       "      <th>neg_mae_score_cv</th>\n",
       "    </tr>\n",
       "  </thead>\n",
       "  <tbody>\n",
       "    <tr>\n",
       "      <th>0</th>\n",
       "      <td>rfe - measure shap development</td>\n",
       "      <td>Obesity</td>\n",
       "      <td>5</td>\n",
       "      <td>-0.011</td>\n",
       "    </tr>\n",
       "    <tr>\n",
       "      <th>1</th>\n",
       "      <td>rfe - measure shap development</td>\n",
       "      <td>Population</td>\n",
       "      <td>5</td>\n",
       "      <td>-0.011</td>\n",
       "    </tr>\n",
       "    <tr>\n",
       "      <th>2</th>\n",
       "      <td>rfe - measure shap development</td>\n",
       "      <td>Max Latitude</td>\n",
       "      <td>5</td>\n",
       "      <td>-0.011</td>\n",
       "    </tr>\n",
       "    <tr>\n",
       "      <th>3</th>\n",
       "      <td>rfe - measure shap development</td>\n",
       "      <td>Max Longitude</td>\n",
       "      <td>5</td>\n",
       "      <td>-0.011</td>\n",
       "    </tr>\n",
       "    <tr>\n",
       "      <th>4</th>\n",
       "      <td>rfe - measure shap development</td>\n",
       "      <td>Annual Average Temperature</td>\n",
       "      <td>5</td>\n",
       "      <td>-0.011</td>\n",
       "    </tr>\n",
       "  </tbody>\n",
       "</table>\n",
       "</div>"
      ],
      "text/plain": [
       "                        algorithm  ... neg_mae_score_cv\n",
       "0  rfe - measure shap development  ...           -0.011\n",
       "1  rfe - measure shap development  ...           -0.011\n",
       "2  rfe - measure shap development  ...           -0.011\n",
       "3  rfe - measure shap development  ...           -0.011\n",
       "4  rfe - measure shap development  ...           -0.011\n",
       "\n",
       "[5 rows x 4 columns]"
      ]
     },
     "execution_count": 75,
     "metadata": {
      "tags": []
     },
     "output_type": "execute_result"
    }
   ],
   "source": [
    "rfecv_xgb_development"
   ]
  },
  {
   "cell_type": "code",
   "execution_count": null,
   "metadata": {
    "id": "BnoNXyCFNDJu"
   },
   "outputs": [],
   "source": [
    "X_train_development, X_test_development, Y_train_development, Y_test_development = train_test_split(\n",
    "    X_development[selected_features_development],\n",
    "    Y_development,\n",
    "    test_size = 0.2\n",
    ")"
   ]
  },
  {
   "cell_type": "code",
   "execution_count": null,
   "metadata": {
    "colab": {
     "base_uri": "https://localhost:8080/"
    },
    "id": "ccwgPvB-NRy5",
    "outputId": "5af5a32b-ea9d-4d5b-ebc5-22fa8ce1f60e"
   },
   "outputs": [
    {
     "name": "stdout",
     "output_type": "stream",
     "text": [
      "[16:25:51] WARNING: /workspace/src/objective/regression_obj.cu:152: reg:linear is now deprecated in favor of reg:squarederror.\n"
     ]
    },
    {
     "data": {
      "text/plain": [
       "XGBRegressor(base_score=0.5, booster='gbtree', colsample_bylevel=1,\n",
       "             colsample_bynode=1, colsample_bytree=1, gamma=0,\n",
       "             importance_type='gain', learning_rate=0.1, max_delta_step=0,\n",
       "             max_depth=5, min_child_weight=5, missing=None, n_estimators=150,\n",
       "             n_jobs=1, nthread=None, objective='reg:linear', random_state=0,\n",
       "             reg_alpha=0, reg_lambda=1, scale_pos_weight=1, seed=None,\n",
       "             silent=None, subsample=1, verbosity=1)"
      ]
     },
     "execution_count": 125,
     "metadata": {
      "tags": []
     },
     "output_type": "execute_result"
    }
   ],
   "source": [
    "xgb_development.fit(X_train_development, Y_train_development['Deaths'])"
   ]
  },
  {
   "cell_type": "code",
   "execution_count": null,
   "metadata": {
    "colab": {
     "base_uri": "https://localhost:8080/",
     "height": 1000
    },
    "id": "tG0eAY3WNcQk",
    "outputId": "5ab2161c-a3d9-4db5-c322-6faff811434c"
   },
   "outputs": [
    {
     "data": {
      "image/png": "[encoded data removed]",
      "text/plain": [
       "<Figure size 576x288 with 1 Axes>"
      ]
     },
     "metadata": {
      "tags": []
     },
     "output_type": "display_data"
    },
    {
     "data": {
      "image/png": "[encoded data removed]",
      "text/plain": [
       "<Figure size 576x252 with 2 Axes>"
      ]
     },
     "metadata": {
      "needs_background": "light",
      "tags": []
     },
     "output_type": "display_data"
    },
    {
     "data": {
      "image/png": "[encoded data removed]",
      "text/plain": [
       "<Figure size 576x288 with 3 Axes>"
      ]
     },
     "metadata": {
      "tags": []
     },
     "output_type": "display_data"
    },
    {
     "data": {
      "image/png": "[encoded data removed]",
      "text/plain": [
       "<Figure size 576x360 with 2 Axes>"
      ]
     },
     "metadata": {
      "needs_background": "light",
      "tags": []
     },
     "output_type": "display_data"
    }
   ],
   "source": [
    "expl = shap.Explainer(xgb_development, X_development[selected_features_development])\n",
    "shap_values = expl(X_development[selected_features_development])\n",
    "shap.plots.bar(shap_values)\n",
    "shap.plots.beeswarm(shap_values)\n",
    "shap.plots.waterfall(shap_values[30])\n",
    "shap.plots.heatmap(shap_values)"
   ]
  }
 ],
 "metadata": {
  "colab": {
   "name": "feature_selection_control_data.ipynb",
   "provenance": []
  },
  "kernelspec": {
   "display_name": "Python 3",
   "language": "python",
   "name": "python3"
  },
  "language_info": {
   "codemirror_mode": {
    "name": "ipython",
    "version": 3
   },
   "file_extension": ".py",
   "mimetype": "text/x-python",
   "name": "python",
   "nbconvert_exporter": "python",
   "pygments_lexer": "ipython3",
   "version": "3.8.5"
  }
 },
 "nbformat": 4,
 "nbformat_minor": 1
}
