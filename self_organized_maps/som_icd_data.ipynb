{
 "cells": [
  {
   "cell_type": "code",
   "execution_count": 1,
   "id": "comparable-allergy",
   "metadata": {},
   "outputs": [],
   "source": [
    "import pandas as pd\n",
    "import numpy as np\n",
    "import matplotlib.pyplot as plt\n",
    "from matplotlib.patches import Patch\n",
    "\n",
    "from minisom import MiniSom\n",
    "from sklearn.preprocessing import minmax_scale, scale\n",
    "from sklearn import preprocessing\n",
    "import settings"
   ]
  },
  {
   "cell_type": "code",
   "execution_count": 2,
   "id": "significant-paste",
   "metadata": {},
   "outputs": [],
   "source": [
    "png_name = 'icd'"
   ]
  },
  {
   "cell_type": "code",
   "execution_count": 3,
   "id": "sustainable-patent",
   "metadata": {},
   "outputs": [],
   "source": [
    "regression_targets = f'{settings.raw_data_folder}control/regression_targets.csv'\n",
    "data = f'{settings.processed_data_folder}{png_name}_selected_features.csv'"
   ]
  },
  {
   "cell_type": "code",
   "execution_count": 4,
   "id": "forty-uzbekistan",
   "metadata": {},
   "outputs": [],
   "source": [
    "df = pd.read_csv(data, index_col=0)"
   ]
  },
  {
   "cell_type": "code",
   "execution_count": 5,
   "id": "collectible-cooler",
   "metadata": {},
   "outputs": [],
   "source": [
    "targets = pd.read_csv(regression_targets, index_col=0)"
   ]
  },
  {
   "cell_type": "code",
   "execution_count": 6,
   "id": "duplicate-custom",
   "metadata": {},
   "outputs": [],
   "source": [
    "targets = targets['Deaths']"
   ]
  },
  {
   "cell_type": "code",
   "execution_count": 7,
   "id": "steady-handle",
   "metadata": {},
   "outputs": [],
   "source": [
    "merged = pd.merge(df, targets, on='Country')"
   ]
  },
  {
   "cell_type": "code",
   "execution_count": 8,
   "id": "silver-trauma",
   "metadata": {},
   "outputs": [
    {
     "data": {
      "text/html": [
       "<div>\n",
       "<style scoped>\n",
       "    .dataframe tbody tr th:only-of-type {\n",
       "        vertical-align: middle;\n",
       "    }\n",
       "\n",
       "    .dataframe tbody tr th {\n",
       "        vertical-align: top;\n",
       "    }\n",
       "\n",
       "    .dataframe thead th {\n",
       "        text-align: right;\n",
       "    }\n",
       "</style>\n",
       "<table border=\"1\" class=\"dataframe\">\n",
       "  <thead>\n",
       "    <tr style=\"text-align: right;\">\n",
       "      <th></th>\n",
       "      <th>Neoplasms</th>\n",
       "      <th>Mental and behavioural disorders</th>\n",
       "      <th>External causes of morbidity and mortality</th>\n",
       "      <th>Diseases of the musculoskeletal system and connective tissue</th>\n",
       "      <th>Country</th>\n",
       "      <th>Deaths</th>\n",
       "    </tr>\n",
       "  </thead>\n",
       "  <tbody>\n",
       "    <tr>\n",
       "      <th>0</th>\n",
       "      <td>40949.883333</td>\n",
       "      <td>567.650000</td>\n",
       "      <td>8502.416667</td>\n",
       "      <td>298.600000</td>\n",
       "      <td>Egypt</td>\n",
       "      <td>0.009527</td>\n",
       "    </tr>\n",
       "    <tr>\n",
       "      <th>1</th>\n",
       "      <td>1515.150000</td>\n",
       "      <td>87.333333</td>\n",
       "      <td>208.433333</td>\n",
       "      <td>49.833333</td>\n",
       "      <td>Mauritius</td>\n",
       "      <td>0.000791</td>\n",
       "    </tr>\n",
       "    <tr>\n",
       "      <th>2</th>\n",
       "      <td>6450.666667</td>\n",
       "      <td>207.833333</td>\n",
       "      <td>974.500000</td>\n",
       "      <td>140.500000</td>\n",
       "      <td>Morocco</td>\n",
       "      <td>0.023312</td>\n",
       "    </tr>\n",
       "    <tr>\n",
       "      <th>3</th>\n",
       "      <td>50640.500000</td>\n",
       "      <td>1926.500000</td>\n",
       "      <td>5989.000000</td>\n",
       "      <td>1612.666667</td>\n",
       "      <td>South Africa</td>\n",
       "      <td>0.077447</td>\n",
       "    </tr>\n",
       "    <tr>\n",
       "      <th>4</th>\n",
       "      <td>3559.000000</td>\n",
       "      <td>104.000000</td>\n",
       "      <td>298.000000</td>\n",
       "      <td>50.000000</td>\n",
       "      <td>Tunisia</td>\n",
       "      <td>0.060205</td>\n",
       "    </tr>\n",
       "    <tr>\n",
       "      <th>...</th>\n",
       "      <td>...</td>\n",
       "      <td>...</td>\n",
       "      <td>...</td>\n",
       "      <td>...</td>\n",
       "      <td>...</td>\n",
       "      <td>...</td>\n",
       "    </tr>\n",
       "    <tr>\n",
       "      <th>94</th>\n",
       "      <td>170927.750000</td>\n",
       "      <td>49328.666667</td>\n",
       "      <td>1998.583333</td>\n",
       "      <td>4546.166667</td>\n",
       "      <td>United Kingdom</td>\n",
       "      <td>0.167220</td>\n",
       "    </tr>\n",
       "    <tr>\n",
       "      <th>95</th>\n",
       "      <td>13160.750000</td>\n",
       "      <td>36.750000</td>\n",
       "      <td>2744.416667</td>\n",
       "      <td>201.916667</td>\n",
       "      <td>Uzbekistan</td>\n",
       "      <td>0.001817</td>\n",
       "    </tr>\n",
       "    <tr>\n",
       "      <th>96</th>\n",
       "      <td>46826.166667</td>\n",
       "      <td>9570.650000</td>\n",
       "      <td>1597.800000</td>\n",
       "      <td>1403.233333</td>\n",
       "      <td>Australia</td>\n",
       "      <td>0.003530</td>\n",
       "    </tr>\n",
       "    <tr>\n",
       "      <th>97</th>\n",
       "      <td>9790.000000</td>\n",
       "      <td>1671.750000</td>\n",
       "      <td>444.833333</td>\n",
       "      <td>280.166667</td>\n",
       "      <td>New Zealand</td>\n",
       "      <td>0.000501</td>\n",
       "    </tr>\n",
       "    <tr>\n",
       "      <th>98</th>\n",
       "      <td>81.000000</td>\n",
       "      <td>2.000000</td>\n",
       "      <td>2.500000</td>\n",
       "      <td>7.500000</td>\n",
       "      <td>Solomon Islands</td>\n",
       "      <td>0.000000</td>\n",
       "    </tr>\n",
       "  </tbody>\n",
       "</table>\n",
       "<p>99 rows × 6 columns</p>\n",
       "</div>"
      ],
      "text/plain": [
       "        Neoplasms  Mental and behavioural disorders  \\\n",
       "0    40949.883333                        567.650000   \n",
       "1     1515.150000                         87.333333   \n",
       "2     6450.666667                        207.833333   \n",
       "3    50640.500000                       1926.500000   \n",
       "4     3559.000000                        104.000000   \n",
       "..            ...                               ...   \n",
       "94  170927.750000                      49328.666667   \n",
       "95   13160.750000                         36.750000   \n",
       "96   46826.166667                       9570.650000   \n",
       "97    9790.000000                       1671.750000   \n",
       "98      81.000000                          2.000000   \n",
       "\n",
       "    External causes of morbidity and mortality  \\\n",
       "0                                  8502.416667   \n",
       "1                                   208.433333   \n",
       "2                                   974.500000   \n",
       "3                                  5989.000000   \n",
       "4                                   298.000000   \n",
       "..                                         ...   \n",
       "94                                 1998.583333   \n",
       "95                                 2744.416667   \n",
       "96                                 1597.800000   \n",
       "97                                  444.833333   \n",
       "98                                    2.500000   \n",
       "\n",
       "    Diseases of the musculoskeletal system and connective tissue  \\\n",
       "0                                          298.600000              \n",
       "1                                           49.833333              \n",
       "2                                          140.500000              \n",
       "3                                         1612.666667              \n",
       "4                                           50.000000              \n",
       "..                                                ...              \n",
       "94                                        4546.166667              \n",
       "95                                         201.916667              \n",
       "96                                        1403.233333              \n",
       "97                                         280.166667              \n",
       "98                                           7.500000              \n",
       "\n",
       "            Country    Deaths  \n",
       "0             Egypt  0.009527  \n",
       "1         Mauritius  0.000791  \n",
       "2           Morocco  0.023312  \n",
       "3      South Africa  0.077447  \n",
       "4           Tunisia  0.060205  \n",
       "..              ...       ...  \n",
       "94   United Kingdom  0.167220  \n",
       "95       Uzbekistan  0.001817  \n",
       "96        Australia  0.003530  \n",
       "97      New Zealand  0.000501  \n",
       "98  Solomon Islands  0.000000  \n",
       "\n",
       "[99 rows x 6 columns]"
      ]
     },
     "execution_count": 8,
     "metadata": {},
     "output_type": "execute_result"
    }
   ],
   "source": [
    "merged"
   ]
  },
  {
   "cell_type": "code",
   "execution_count": 9,
   "id": "boxed-filename",
   "metadata": {},
   "outputs": [],
   "source": [
    "def scale_df(df):\n",
    "    x = df.values  # returns a numpy array\n",
    "    min_max_scaler = preprocessing.MinMaxScaler()\n",
    "    x_scaled = min_max_scaler.fit_transform(x)\n",
    "    df_scaled = pd.DataFrame(x_scaled)\n",
    "    return df_scaled"
   ]
  },
  {
   "cell_type": "code",
   "execution_count": 10,
   "id": "legislative-ordinary",
   "metadata": {},
   "outputs": [],
   "source": [
    "columns_for_scale = merged.columns\n",
    "columns_for_scale = columns_for_scale.tolist()\n",
    "columns_for_scale.remove('Country')"
   ]
  },
  {
   "cell_type": "code",
   "execution_count": 11,
   "id": "numerous-hearing",
   "metadata": {},
   "outputs": [],
   "source": [
    "countries = merged['Country']"
   ]
  },
  {
   "cell_type": "code",
   "execution_count": 12,
   "id": "activated-archives",
   "metadata": {},
   "outputs": [],
   "source": [
    "scaled = scale_df(merged[columns_for_scale])"
   ]
  },
  {
   "cell_type": "code",
   "execution_count": 13,
   "id": "exceptional-xerox",
   "metadata": {},
   "outputs": [],
   "source": [
    "scaled.columns = columns_for_scale"
   ]
  },
  {
   "cell_type": "code",
   "execution_count": 14,
   "id": "nonprofit-validity",
   "metadata": {},
   "outputs": [],
   "source": [
    "features_for_som = columns_for_scale"
   ]
  },
  {
   "cell_type": "code",
   "execution_count": 15,
   "id": "monthly-david",
   "metadata": {},
   "outputs": [],
   "source": [
    "features_for_som.remove('Deaths')"
   ]
  },
  {
   "cell_type": "code",
   "execution_count": 16,
   "id": "intermediate-anime",
   "metadata": {},
   "outputs": [],
   "source": [
    "scaled['Country'] = countries"
   ]
  },
  {
   "cell_type": "code",
   "execution_count": 17,
   "id": "legendary-jurisdiction",
   "metadata": {},
   "outputs": [],
   "source": [
    "scaled['binned'] = pd.cut(scaled['Deaths'], 3, labels = ['small', 'medium', 'large'])"
   ]
  },
  {
   "cell_type": "code",
   "execution_count": 18,
   "id": "magnetic-candidate",
   "metadata": {},
   "outputs": [],
   "source": [
    "df_features_scaled_not_nan = scaled[scaled['binned'].notna()]"
   ]
  },
  {
   "cell_type": "code",
   "execution_count": 19,
   "id": "extreme-auction",
   "metadata": {},
   "outputs": [],
   "source": [
    "all_countries = df_features_scaled_not_nan['Country']"
   ]
  },
  {
   "cell_type": "code",
   "execution_count": 20,
   "id": "pleasant-monthly",
   "metadata": {},
   "outputs": [],
   "source": [
    "category_color = {'small': 'darkgreen',\n",
    "                  'medium': '#ffa500',\n",
    "                  'large': 'red'\n",
    "                  }"
   ]
  },
  {
   "cell_type": "code",
   "execution_count": 21,
   "id": "oriental-highland",
   "metadata": {},
   "outputs": [],
   "source": [
    "colors_dict = {}\n",
    "for c, dm in zip(all_countries, df_features_scaled_not_nan['binned']):\n",
    "    colors_dict[c] = category_color[dm]"
   ]
  },
  {
   "cell_type": "code",
   "execution_count": 22,
   "id": "guided-snowboard",
   "metadata": {
    "jupyter": {
     "source_hidden": true
    }
   },
   "outputs": [],
   "source": [
    "\n",
    "country_codes = {'Afghanistan': 'AF',\n",
    " 'Albania': 'AL',\n",
    " 'Algeria': 'DZ',\n",
    " 'Angola': 'AO',\n",
    " 'Argentina': 'AR',\n",
    " 'Armenia': 'AM',\n",
    " 'Australia': 'AU',\n",
    " 'Austria': 'AT',\n",
    " 'Azerbaijan': 'AZ',\n",
    " 'Bahrain': 'BH',\n",
    " 'Bangladesh': 'BD',\n",
    " 'Belarus': 'BY',\n",
    " 'Belgium': 'BE',\n",
    " 'Benin': 'BJ',\n",
    " 'Bhutan': 'BT',\n",
    " 'Bolivia': 'BO',\n",
    " 'Bosnia and Herzegovina': 'BA',\n",
    " 'Botswana': 'BW',\n",
    " 'Brazil': 'BR',\n",
    " 'Bulgaria': 'BG',\n",
    " 'Burkina Faso': 'BF',\n",
    " 'Burundi': 'BI',\n",
    " 'Cambodia': 'KH',\n",
    " 'Cameroon': 'CM',\n",
    " 'Canada': 'CA',\n",
    " 'Cape Verde': 'CV',\n",
    " 'Central African Republic': 'CF',\n",
    " 'Chad': 'TD',\n",
    " 'Chile': 'CL',\n",
    " 'China': 'CN',\n",
    " 'Colombia': 'CO',\n",
    " 'Comoros': 'KM',\n",
    " 'Costa Rica': 'CR',\n",
    " 'Croatia': 'HR',\n",
    " 'Cuba': 'CU',\n",
    " 'Cyprus': 'CY',\n",
    " 'Czechia': 'CZ',\n",
    " 'Democratic Republic of the Congo': 'CD',\n",
    " 'Denmark': 'DK',\n",
    " 'Djibouti': 'DJ',\n",
    " 'Dominican Republic': 'DO',\n",
    " 'Ecuador': 'EC',\n",
    " 'Egypt': 'EG',\n",
    " 'El Salvador': 'SV',\n",
    " 'Equatorial Guinea': 'GQ',\n",
    " 'Eritrea': 'ER',\n",
    " 'Estonia': 'EE',\n",
    " 'Ethiopia': 'ET',\n",
    " 'Fiji': 'FJ',\n",
    " 'Finland': 'FI',\n",
    " 'France': 'FR',\n",
    " 'Gabon': 'GA',\n",
    " 'Gambia': 'GM',\n",
    " 'Georgia': 'GE',\n",
    " 'Germany': 'DE',\n",
    " 'Ghana': 'GH',\n",
    " 'Greece': 'GR',\n",
    " 'Guatemala': 'GT',\n",
    " 'Guinea': 'GN',\n",
    " 'Guinea-Bissau': 'GW',\n",
    " 'Guyana': 'GY',\n",
    " 'Haiti': 'HT',\n",
    " 'Honduras': 'HN',\n",
    " 'Hong Kong': 'HK',\n",
    " 'Hungary': 'HU',\n",
    " 'Iceland': 'IS',\n",
    " 'India': 'IN',\n",
    " 'Indonesia': 'ID',\n",
    " 'Iran (Islamic Republic of)': 'IR',\n",
    " 'Iraq': 'IQ',\n",
    " 'Ireland': 'IE',\n",
    " 'Israel': 'IL',\n",
    " 'Italy': 'IT',\n",
    " 'Ivory Coast': 'IC',\n",
    " 'Jamaica': 'JM',\n",
    " 'Japan': 'JP',\n",
    " 'Jordan': 'JO',\n",
    " 'Kazakhstan': 'KZ',\n",
    " 'Kenya': 'KE',\n",
    " 'Kuwait': 'KW',\n",
    " 'Kyrgyzstan': 'KG',\n",
    " 'Laos': 'LA',\n",
    " 'Latvia': 'LV',\n",
    " 'Lebanon': 'LB',\n",
    " 'Lesotho': 'LS',\n",
    " 'Liberia': 'LR',\n",
    " 'Libya': 'LY',\n",
    " 'Lithuania': 'LT',\n",
    " 'Luxembourg': 'LU',\n",
    " 'Macedonia': 'MK',\n",
    " 'Madagascar': 'MG',\n",
    " 'Malawi': 'MW',\n",
    " 'Malaysia': 'MY',\n",
    " 'Mali': 'ML',\n",
    " 'Malta': 'MT',\n",
    " 'Mauritania': 'MR',\n",
    " 'Mauritius': 'MU',\n",
    " 'Mexico': 'MX',\n",
    " 'Republic of Moldova': 'MD',\n",
    " 'Mongolia': 'MN',\n",
    " 'Montenegro': 'ME',\n",
    " 'Morocco': 'MA',\n",
    " 'Mozambique': 'MZ',\n",
    " 'Myanmar': 'MM',\n",
    " 'Namibia': 'NA',\n",
    " 'Nepal': 'NP',\n",
    " 'Netherlands': 'NL',\n",
    " 'New Zealand': 'NZ',\n",
    " 'North Macedonia': 'NM',\n",
    " 'Nicaragua': 'NI',\n",
    " 'Niger': 'NE',\n",
    " 'Nigeria': 'NG',\n",
    " 'North Korea': 'KP',\n",
    " 'Norway': 'NO',\n",
    " 'Oman': 'OM',\n",
    " 'Pakistan': 'PK',\n",
    " 'Palestine': 'PS',\n",
    " 'Panama': 'PA',\n",
    " 'Papua New Guinea': 'PG',\n",
    " 'Paraguay': 'PY',\n",
    " 'Peru': 'PE',\n",
    " 'Philippines': 'PH',\n",
    " 'Poland': 'PL',\n",
    " 'Portugal': 'PT',\n",
    " 'Qatar': 'QA',\n",
    " 'Republic of China (Taiwan)': 'TW',\n",
    " 'Republic of the Congo': 'CG',\n",
    " 'Romania': 'RO',\n",
    " 'Russia': 'RU',\n",
    " 'Rwanda': 'RW',\n",
    " 'Saudi Arabia': 'SA',\n",
    " 'Senegal': 'SN',\n",
    " 'Serbia': 'RS',\n",
    " 'Sierra Leone': 'SL',\n",
    " 'Singapore': 'SG',\n",
    " 'Slovakia': 'SK',\n",
    " 'Slovenia': 'SI',\n",
    " 'South Africa': 'ZA',\n",
    " 'South Korea': 'KR',\n",
    " 'Spain': 'ES',\n",
    " 'Sri Lanka': 'LK',\n",
    " 'Sudan': 'SD',\n",
    " 'Suriname': 'SR',\n",
    " 'Swaziland': 'SZ',\n",
    " 'Sweden': 'SE',\n",
    " 'Switzerland': 'CH',\n",
    " 'Syria': 'SY',\n",
    " 'Tajikistan': 'TJ',\n",
    " 'Tanzania': 'TZ',\n",
    " 'Thailand': 'TH',\n",
    " 'Timor-Leste': 'TL',\n",
    " 'Togo': 'TG',\n",
    " 'Trinidad and Tobago': 'TT',\n",
    " 'Tunisia': 'TN',\n",
    " 'Turkey': 'TR',\n",
    " 'Turkmenistan': 'TM',\n",
    " 'Uganda': 'UG',\n",
    " 'Ukraine': 'UA',\n",
    " 'United Arab Emirates': 'AE',\n",
    " 'United Kingdom': 'GB',\n",
    " 'United States of America': 'US',\n",
    " 'Uruguay': 'UY',\n",
    " 'Uzbekistan': 'UZ',\n",
    " 'Venezuela (Bolivarian Republic of)': 'VE',\n",
    " 'Vietnam': 'VN',\n",
    " 'Yemen': 'YE',\n",
    " 'Zambia': 'ZM',\n",
    " 'Zimbabwe': 'ZW',\n",
    "'Bahamas': 'BHMS',\n",
    "'Saint Vincent and the Grenadines': 'SVG',\n",
    "'Barbados': 'BRBDS',\n",
    "'Antigua and Barbuda' : 'AAB',\n",
    "'Maldives' : 'MDV',\n",
    "'Belize': 'BZE',\n",
    "'Saint Lucia': 'SL',\n",
    "'Grenada': 'GDA',\n",
    "'Lao People\\'s Democratic Republic':'LPDP',\n",
    "'United Republic of Tanzania': 'TNZ',\n",
    "'Russian Federation': 'Russia',\n",
    "'Saint Kitts and Nevis' : 'SK',\n",
    "'Uganda': 'UG',\n",
    "                'Sao Tome and Principe': 'STP',\n",
    "                'Solomon Islands': 'SI',\n",
    "                'Cote d\\'Ivoire': 'CI'}"
   ]
  },
  {
   "cell_type": "code",
   "execution_count": 27,
   "id": "lesbian-muscle",
   "metadata": {},
   "outputs": [
    {
     "name": "stdout",
     "output_type": "stream",
     "text": [
      " [ 2500 / 2500 ] 100% - 0:00:00 left \n",
      " quantization error: 0.026694498774984317\n"
     ]
    }
   ],
   "source": [
    "feature_names = features_for_som\n",
    "\n",
    "X = df_features_scaled_not_nan[feature_names].values\n",
    "\n",
    "size = 8\n",
    "som = MiniSom(size, size, len(X[0]),\n",
    "              neighborhood_function='gaussian', sigma=1.5,\n",
    "              random_seed=1)\n",
    "\n",
    "som.pca_weights_init(X)\n",
    "som.train_random(X, 2500, verbose=True)"
   ]
  },
  {
   "cell_type": "code",
   "execution_count": 28,
   "id": "neither-blade",
   "metadata": {},
   "outputs": [
    {
     "data": {
      "image/png": "[encoded data removed]",
      "text/plain": [
       "<Figure size 1008x1008 with 1 Axes>"
      ]
     },
     "metadata": {
      "needs_background": "light"
     },
     "output_type": "display_data"
    }
   ],
   "source": [
    "def shorten_country(c):\n",
    "    if len(c) > 8 and c in country_codes:\n",
    "        return country_codes[c]\n",
    "    else:\n",
    "        return c\n",
    "\n",
    "country_map = som.labels_map(X, all_countries)\n",
    "    \n",
    "plt.figure(figsize=(14, 14))\n",
    "for p, countries in country_map.items():\n",
    "    countries = list(countries)\n",
    "    x = p[0] + .1\n",
    "    y = p[1] - .3\n",
    "    for i, c in enumerate(countries):\n",
    "        off_set = (i+1)/len(countries) + 0.15\n",
    "        plt.text(x, y+off_set, shorten_country(c), color=colors_dict[c], fontsize=10)\n",
    "plt.pcolor(som.distance_map().T, cmap='gray_r', alpha=.2)\n",
    "plt.xticks(np.arange(size+1))\n",
    "plt.yticks(np.arange(size+1))\n",
    "plt.grid()\n",
    "\n",
    "legend_elements = [Patch(facecolor=clr,\n",
    "                         edgecolor='w',\n",
    "                         label=l) for l, clr in category_color.items()]\n",
    "plt.legend(handles=legend_elements, loc='center left', bbox_to_anchor=(1, .95))\n",
    "plt.savefig(f'./{png_name}_{size}x{size}.png', dpi=300, bbox_inches = \"tight\")\n",
    "plt.show()"
   ]
  },
  {
   "cell_type": "code",
   "execution_count": 29,
   "id": "detailed-interview",
   "metadata": {},
   "outputs": [
    {
     "data": {
      "image/png": "[encoded data removed]",
      "text/plain": [
       "<Figure size 1440x1440 with 4 Axes>"
      ]
     },
     "metadata": {
      "needs_background": "light"
     },
     "output_type": "display_data"
    }
   ],
   "source": [
    "import math\n",
    "W = som.get_weights()\n",
    "size_plot = math.sqrt(len(feature_names))\n",
    "size_plot = math.floor(size_plot)\n",
    "plt.figure(figsize=(20, 20))\n",
    "for i, f in enumerate(feature_names):\n",
    "    plt.subplot(size_plot+1, size_plot+1, i+1)\n",
    "    plt.title(f)\n",
    "    plt.pcolor(W[:,:,i].T, cmap='coolwarm')\n",
    "    plt.xticks(np.arange(size_plot+1))\n",
    "    plt.yticks(np.arange(size_plot+1))\n",
    "plt.tight_layout()\n",
    "plt.savefig(f'./{png_name}_{size}x{size}_weights.png', dpi=300, bbox_inches = \"tight\")\n",
    "plt.show()"
   ]
  },
  {
   "cell_type": "code",
   "execution_count": 30,
   "id": "funded-triple",
   "metadata": {},
   "outputs": [
    {
     "data": {
      "image/png": "[encoded data removed]",
      "text/plain": [
       "<Figure size 576x576 with 1 Axes>"
      ]
     },
     "metadata": {
      "needs_background": "light"
     },
     "output_type": "display_data"
    }
   ],
   "source": [
    "Z = np.zeros((size, size))\n",
    "plt.figure(figsize=(8, 8))\n",
    "for i in np.arange(som._weights.shape[0]):\n",
    "    for j in np.arange(som._weights.shape[1]):\n",
    "        feature = np.argmax(W[i, j , :])\n",
    "        plt.plot([j+.5], [i+.5], 'o', color='C'+str(feature),\n",
    "                 marker='s', markersize=24)\n",
    "\n",
    "legend_elements = [Patch(facecolor='C'+str(i),\n",
    "                         edgecolor='w',\n",
    "                         label=f) for i, f in enumerate(feature_names)]\n",
    "\n",
    "plt.legend(handles=legend_elements,\n",
    "           loc='center left',\n",
    "           bbox_to_anchor=(1, .95))\n",
    "        \n",
    "plt.xlim([0, size])\n",
    "plt.ylim([0, size])\n",
    "plt.savefig(f'./{png_name}_{size}x{size}_decisions.png', dpi=300, bbox_inches = \"tight\")\n",
    "plt.show()"
   ]
  },
  {
   "cell_type": "code",
   "execution_count": null,
   "id": "gorgeous-links",
   "metadata": {},
   "outputs": [],
   "source": []
  },
  {
   "cell_type": "code",
   "execution_count": null,
   "id": "legitimate-sudan",
   "metadata": {},
   "outputs": [],
   "source": []
  }
 ],
 "metadata": {
  "kernelspec": {
   "display_name": "Python 3",
   "language": "python",
   "name": "python3"
  },
  "language_info": {
   "codemirror_mode": {
    "name": "ipython",
    "version": 3
   },
   "file_extension": ".py",
   "mimetype": "text/x-python",
   "name": "python",
   "nbconvert_exporter": "python",
   "pygments_lexer": "ipython3",
   "version": "3.7.9"
  }
 },
 "nbformat": 4,
 "nbformat_minor": 5
}
